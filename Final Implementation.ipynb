{
  "nbformat": 4,
  "nbformat_minor": 0,
  "metadata": {
    "colab": {
      "name": " Machine Learning Project.ipynb",
      "provenance": [],
      "collapsed_sections": [
        "VuGqwePuhn9M",
        "7ciITVSMIH0J",
        "TtdUKvCeIPyM",
        "fcti3OWmIeN1",
        "Pb4W6uOEIlpo",
        "T7TkoMM0I0FX",
        "UmZ9duFfa6nh",
        "tdxhXQExfnH_",
        "ZrLGpL_oNY1-",
        "sDALJ-Eys_3d",
        "rbVCijXbHpHE",
        "7HIqq8i8NLny",
        "snBJM41NNrZV",
        "WsFQvRuYN1vV",
        "dcKTrqbKVcsW",
        "gOwmENiXZuze",
        "dN1gmbJFelBj",
        "A6p6Ctv0UdM1",
        "1RHzsExZg_c6",
        "slRmo-2HkOvc",
        "dAWoXOnxRsKs",
        "JoFPEmdvevGF",
        "M_SUnUNXi_f4",
        "Q0duLdN4l0wh",
        "wHWWvWwfs4Qp"
      ],
      "authorship_tag": "ABX9TyMKmVjVWIKHTwr8JdPbxYoy",
      "include_colab_link": true
    },
    "kernelspec": {
      "name": "python3",
      "display_name": "Python 3"
    },
    "language_info": {
      "name": "python"
    },
    "accelerator": "TPU"
  },
  "cells": [
    {
      "cell_type": "markdown",
      "metadata": {
        "id": "view-in-github",
        "colab_type": "text"
      },
      "source": [
        "<a href=\"https://colab.research.google.com/github/HimashiRathnayake/Pump-it-Up-Data-Mining-the-Water-Table-Competition/blob/main/Final%20Implementation.ipynb\" target=\"_parent\"><img src=\"https://colab.research.google.com/assets/colab-badge.svg\" alt=\"Open In Colab\"/></a>"
      ]
    },
    {
      "cell_type": "markdown",
      "metadata": {
        "id": "VNfGMFgVosk8"
      },
      "source": [
        "## **Dependencies**"
      ]
    },
    {
      "cell_type": "code",
      "metadata": {
        "id": "LaQgoOOnpslM"
      },
      "source": [
        "# !pip install --upgrade category_encoders"
      ],
      "execution_count": 1,
      "outputs": []
    },
    {
      "cell_type": "code",
      "metadata": {
        "colab": {
          "base_uri": "https://localhost:8080/"
        },
        "id": "IQ3y_QDdpoS2",
        "outputId": "d13eae50-fa55-401b-d5ef-edddaf5d8544"
      },
      "source": [
        "import numpy as np\n",
        "import pandas as pd\n",
        "import tensorflow as tf\n",
        "from pandas.api.types import CategoricalDtype\n",
        "from sklearn.ensemble import RandomForestClassifier\n",
        "from sklearn.model_selection import KFold, cross_val_score\n",
        "from sklearn.feature_selection import mutual_info_classif\n",
        "from sklearn.preprocessing import OneHotEncoder\n",
        "import matplotlib.pyplot as plt\n",
        "import seaborn as sns\n",
        "from sklearn.cluster import KMeans\n",
        "from sklearn.decomposition import PCA\n",
        "from category_encoders import MEstimateEncoder\n",
        "import keras\n",
        "from sklearn.model_selection import train_test_split\n",
        "from sklearn.metrics import accuracy_score, balanced_accuracy_score\n",
        "from xgboost import XGBClassifier\n",
        "from imblearn.over_sampling import SMOTE, RandomOverSampler\n",
        "from sklearn.preprocessing import StandardScaler\n",
        "from google.colab import drive"
      ],
      "execution_count": 2,
      "outputs": [
        {
          "output_type": "stream",
          "name": "stderr",
          "text": [
            "/usr/local/lib/python3.7/dist-packages/statsmodels/tools/_testing.py:19: FutureWarning: pandas.util.testing is deprecated. Use the functions in the public API at pandas.testing instead.\n",
            "  import pandas.util.testing as tm\n",
            "/usr/local/lib/python3.7/dist-packages/sklearn/externals/six.py:31: FutureWarning: The module is deprecated in version 0.21 and will be removed in version 0.23 since we've dropped support for Python 2.7. Please rely on the official version of six (https://pypi.org/project/six/).\n",
            "  \"(https://pypi.org/project/six/).\", FutureWarning)\n",
            "/usr/local/lib/python3.7/dist-packages/sklearn/utils/deprecation.py:144: FutureWarning: The sklearn.neighbors.base module is  deprecated in version 0.22 and will be removed in version 0.24. The corresponding classes / functions should instead be imported from sklearn.neighbors. Anything that cannot be imported from sklearn.neighbors is now part of the private API.\n",
            "  warnings.warn(message, FutureWarning)\n"
          ]
        }
      ]
    },
    {
      "cell_type": "code",
      "metadata": {
        "colab": {
          "base_uri": "https://localhost:8080/"
        },
        "id": "Y_xPUpqNoxCX",
        "outputId": "49d8b622-2206-4d7c-ac61-a3caab25f3f5"
      },
      "source": [
        "drive.mount('/content/drive')"
      ],
      "execution_count": 3,
      "outputs": [
        {
          "output_type": "stream",
          "name": "stdout",
          "text": [
            "Drive already mounted at /content/drive; to attempt to forcibly remount, call drive.mount(\"/content/drive\", force_remount=True).\n"
          ]
        }
      ]
    },
    {
      "cell_type": "code",
      "metadata": {
        "colab": {
          "base_uri": "https://localhost:8080/"
        },
        "id": "pLUOgrZNXL0K",
        "outputId": "0a3ef112-28b3-4094-b6cb-85975d6aa5ac"
      },
      "source": [
        "print(\"Tensorflow version \" + tf.__version__)\n",
        "\n",
        "try:\n",
        "  tpu = tf.distribute.cluster_resolver.TPUClusterResolver()  # TPU detection\n",
        "  print('Running on TPU ', tpu.cluster_spec().as_dict()['worker'])\n",
        "except ValueError:\n",
        "  raise BaseException('ERROR: Not connected to a TPU runtime; please see the previous cell in this notebook for instructions!')\n",
        "\n",
        "tf.config.experimental_connect_to_cluster(tpu)\n",
        "tpu_strategy = tf.distribute.experimental.TPUStrategy(tpu)"
      ],
      "execution_count": 4,
      "outputs": [
        {
          "output_type": "stream",
          "name": "stderr",
          "text": [
            "WARNING:absl:`tf.distribute.experimental.TPUStrategy` is deprecated, please use  the non experimental symbol `tf.distribute.TPUStrategy` instead.\n"
          ]
        },
        {
          "output_type": "stream",
          "name": "stdout",
          "text": [
            "Tensorflow version 2.6.0\n",
            "Running on TPU  ['10.111.197.66:8470']\n",
            "INFO:tensorflow:Found TPU system:\n"
          ]
        },
        {
          "output_type": "stream",
          "name": "stderr",
          "text": [
            "INFO:tensorflow:Found TPU system:\n"
          ]
        },
        {
          "output_type": "stream",
          "name": "stdout",
          "text": [
            "INFO:tensorflow:*** Num TPU Cores: 8\n"
          ]
        },
        {
          "output_type": "stream",
          "name": "stderr",
          "text": [
            "INFO:tensorflow:*** Num TPU Cores: 8\n"
          ]
        },
        {
          "output_type": "stream",
          "name": "stdout",
          "text": [
            "INFO:tensorflow:*** Num TPU Workers: 1\n"
          ]
        },
        {
          "output_type": "stream",
          "name": "stderr",
          "text": [
            "INFO:tensorflow:*** Num TPU Workers: 1\n"
          ]
        },
        {
          "output_type": "stream",
          "name": "stdout",
          "text": [
            "INFO:tensorflow:*** Num TPU Cores Per Worker: 8\n"
          ]
        },
        {
          "output_type": "stream",
          "name": "stderr",
          "text": [
            "INFO:tensorflow:*** Num TPU Cores Per Worker: 8\n"
          ]
        },
        {
          "output_type": "stream",
          "name": "stdout",
          "text": [
            "INFO:tensorflow:*** Available Device: _DeviceAttributes(/job:localhost/replica:0/task:0/device:CPU:0, CPU, 0, 0)\n"
          ]
        },
        {
          "output_type": "stream",
          "name": "stderr",
          "text": [
            "INFO:tensorflow:*** Available Device: _DeviceAttributes(/job:localhost/replica:0/task:0/device:CPU:0, CPU, 0, 0)\n"
          ]
        },
        {
          "output_type": "stream",
          "name": "stdout",
          "text": [
            "INFO:tensorflow:*** Available Device: _DeviceAttributes(/job:worker/replica:0/task:0/device:CPU:0, CPU, 0, 0)\n"
          ]
        },
        {
          "output_type": "stream",
          "name": "stderr",
          "text": [
            "INFO:tensorflow:*** Available Device: _DeviceAttributes(/job:worker/replica:0/task:0/device:CPU:0, CPU, 0, 0)\n"
          ]
        },
        {
          "output_type": "stream",
          "name": "stdout",
          "text": [
            "INFO:tensorflow:*** Available Device: _DeviceAttributes(/job:worker/replica:0/task:0/device:TPU:0, TPU, 0, 0)\n"
          ]
        },
        {
          "output_type": "stream",
          "name": "stderr",
          "text": [
            "INFO:tensorflow:*** Available Device: _DeviceAttributes(/job:worker/replica:0/task:0/device:TPU:0, TPU, 0, 0)\n"
          ]
        },
        {
          "output_type": "stream",
          "name": "stdout",
          "text": [
            "INFO:tensorflow:*** Available Device: _DeviceAttributes(/job:worker/replica:0/task:0/device:TPU:1, TPU, 0, 0)\n"
          ]
        },
        {
          "output_type": "stream",
          "name": "stderr",
          "text": [
            "INFO:tensorflow:*** Available Device: _DeviceAttributes(/job:worker/replica:0/task:0/device:TPU:1, TPU, 0, 0)\n"
          ]
        },
        {
          "output_type": "stream",
          "name": "stdout",
          "text": [
            "INFO:tensorflow:*** Available Device: _DeviceAttributes(/job:worker/replica:0/task:0/device:TPU:2, TPU, 0, 0)\n"
          ]
        },
        {
          "output_type": "stream",
          "name": "stderr",
          "text": [
            "INFO:tensorflow:*** Available Device: _DeviceAttributes(/job:worker/replica:0/task:0/device:TPU:2, TPU, 0, 0)\n"
          ]
        },
        {
          "output_type": "stream",
          "name": "stdout",
          "text": [
            "INFO:tensorflow:*** Available Device: _DeviceAttributes(/job:worker/replica:0/task:0/device:TPU:3, TPU, 0, 0)\n"
          ]
        },
        {
          "output_type": "stream",
          "name": "stderr",
          "text": [
            "INFO:tensorflow:*** Available Device: _DeviceAttributes(/job:worker/replica:0/task:0/device:TPU:3, TPU, 0, 0)\n"
          ]
        },
        {
          "output_type": "stream",
          "name": "stdout",
          "text": [
            "INFO:tensorflow:*** Available Device: _DeviceAttributes(/job:worker/replica:0/task:0/device:TPU:4, TPU, 0, 0)\n"
          ]
        },
        {
          "output_type": "stream",
          "name": "stderr",
          "text": [
            "INFO:tensorflow:*** Available Device: _DeviceAttributes(/job:worker/replica:0/task:0/device:TPU:4, TPU, 0, 0)\n"
          ]
        },
        {
          "output_type": "stream",
          "name": "stdout",
          "text": [
            "INFO:tensorflow:*** Available Device: _DeviceAttributes(/job:worker/replica:0/task:0/device:TPU:5, TPU, 0, 0)\n"
          ]
        },
        {
          "output_type": "stream",
          "name": "stderr",
          "text": [
            "INFO:tensorflow:*** Available Device: _DeviceAttributes(/job:worker/replica:0/task:0/device:TPU:5, TPU, 0, 0)\n"
          ]
        },
        {
          "output_type": "stream",
          "name": "stdout",
          "text": [
            "INFO:tensorflow:*** Available Device: _DeviceAttributes(/job:worker/replica:0/task:0/device:TPU:6, TPU, 0, 0)\n"
          ]
        },
        {
          "output_type": "stream",
          "name": "stderr",
          "text": [
            "INFO:tensorflow:*** Available Device: _DeviceAttributes(/job:worker/replica:0/task:0/device:TPU:6, TPU, 0, 0)\n"
          ]
        },
        {
          "output_type": "stream",
          "name": "stdout",
          "text": [
            "INFO:tensorflow:*** Available Device: _DeviceAttributes(/job:worker/replica:0/task:0/device:TPU:7, TPU, 0, 0)\n"
          ]
        },
        {
          "output_type": "stream",
          "name": "stderr",
          "text": [
            "INFO:tensorflow:*** Available Device: _DeviceAttributes(/job:worker/replica:0/task:0/device:TPU:7, TPU, 0, 0)\n"
          ]
        },
        {
          "output_type": "stream",
          "name": "stdout",
          "text": [
            "INFO:tensorflow:*** Available Device: _DeviceAttributes(/job:worker/replica:0/task:0/device:TPU_SYSTEM:0, TPU_SYSTEM, 0, 0)\n"
          ]
        },
        {
          "output_type": "stream",
          "name": "stderr",
          "text": [
            "INFO:tensorflow:*** Available Device: _DeviceAttributes(/job:worker/replica:0/task:0/device:TPU_SYSTEM:0, TPU_SYSTEM, 0, 0)\n"
          ]
        },
        {
          "output_type": "stream",
          "name": "stdout",
          "text": [
            "INFO:tensorflow:*** Available Device: _DeviceAttributes(/job:worker/replica:0/task:0/device:XLA_CPU:0, XLA_CPU, 0, 0)\n"
          ]
        },
        {
          "output_type": "stream",
          "name": "stderr",
          "text": [
            "INFO:tensorflow:*** Available Device: _DeviceAttributes(/job:worker/replica:0/task:0/device:XLA_CPU:0, XLA_CPU, 0, 0)\n"
          ]
        }
      ]
    },
    {
      "cell_type": "markdown",
      "metadata": {
        "id": "VuGqwePuhn9M"
      },
      "source": [
        "## **Load Data**"
      ]
    },
    {
      "cell_type": "code",
      "metadata": {
        "id": "JN832xaYpQcn"
      },
      "source": [
        "folder_path = \"/content/drive/Shareddrives/Other/MLProject/\""
      ],
      "execution_count": 5,
      "outputs": []
    },
    {
      "cell_type": "code",
      "metadata": {
        "id": "jLDPpGO4hKYF"
      },
      "source": [
        "train_data = pd.read_csv(folder_path + \"TrainingSetValues.csv\")\n",
        "train_labels  = pd.read_csv(folder_path + \"TrainingSetLabels.csv\")\n",
        "test_data = pd.read_csv(folder_path + \"TestSetValues.csv\")"
      ],
      "execution_count": 6,
      "outputs": []
    },
    {
      "cell_type": "code",
      "metadata": {
        "id": "4Q0TE7gqt3x4"
      },
      "source": [
        "train_data = train_data.set_index(\"id\")\n",
        "test_data = test_data.set_index(\"id\")\n",
        "train_labels = train_labels.set_index(\"id\")\n",
        "\n",
        "all_data = pd.concat([train_data, test_data])"
      ],
      "execution_count": 7,
      "outputs": []
    },
    {
      "cell_type": "markdown",
      "metadata": {
        "id": "XE0stbTu6G7B"
      },
      "source": [
        "## **Analyse Dataset**"
      ]
    },
    {
      "cell_type": "markdown",
      "metadata": {
        "id": "ey0_QD9Z6RrC"
      },
      "source": [
        "#### **Dataset Information**"
      ]
    },
    {
      "cell_type": "markdown",
      "metadata": {
        "id": "RYWsUfL6-MWW"
      },
      "source": [
        "**Train Data**"
      ]
    },
    {
      "cell_type": "code",
      "metadata": {
        "colab": {
          "base_uri": "https://localhost:8080/",
          "height": 443
        },
        "id": "oStlfRODrGhO",
        "outputId": "3d5bd371-7b84-44eb-a306-0e5079ead105"
      },
      "source": [
        "train_data[:5]"
      ],
      "execution_count": 8,
      "outputs": [
        {
          "output_type": "execute_result",
          "data": {
            "text/html": [
              "<div>\n",
              "<style scoped>\n",
              "    .dataframe tbody tr th:only-of-type {\n",
              "        vertical-align: middle;\n",
              "    }\n",
              "\n",
              "    .dataframe tbody tr th {\n",
              "        vertical-align: top;\n",
              "    }\n",
              "\n",
              "    .dataframe thead th {\n",
              "        text-align: right;\n",
              "    }\n",
              "</style>\n",
              "<table border=\"1\" class=\"dataframe\">\n",
              "  <thead>\n",
              "    <tr style=\"text-align: right;\">\n",
              "      <th></th>\n",
              "      <th>amount_tsh</th>\n",
              "      <th>date_recorded</th>\n",
              "      <th>funder</th>\n",
              "      <th>gps_height</th>\n",
              "      <th>installer</th>\n",
              "      <th>longitude</th>\n",
              "      <th>latitude</th>\n",
              "      <th>wpt_name</th>\n",
              "      <th>num_private</th>\n",
              "      <th>basin</th>\n",
              "      <th>subvillage</th>\n",
              "      <th>region</th>\n",
              "      <th>region_code</th>\n",
              "      <th>district_code</th>\n",
              "      <th>lga</th>\n",
              "      <th>ward</th>\n",
              "      <th>population</th>\n",
              "      <th>public_meeting</th>\n",
              "      <th>recorded_by</th>\n",
              "      <th>scheme_management</th>\n",
              "      <th>scheme_name</th>\n",
              "      <th>permit</th>\n",
              "      <th>construction_year</th>\n",
              "      <th>extraction_type</th>\n",
              "      <th>extraction_type_group</th>\n",
              "      <th>extraction_type_class</th>\n",
              "      <th>management</th>\n",
              "      <th>management_group</th>\n",
              "      <th>payment</th>\n",
              "      <th>payment_type</th>\n",
              "      <th>water_quality</th>\n",
              "      <th>quality_group</th>\n",
              "      <th>quantity</th>\n",
              "      <th>quantity_group</th>\n",
              "      <th>source</th>\n",
              "      <th>source_type</th>\n",
              "      <th>source_class</th>\n",
              "      <th>waterpoint_type</th>\n",
              "      <th>waterpoint_type_group</th>\n",
              "    </tr>\n",
              "    <tr>\n",
              "      <th>id</th>\n",
              "      <th></th>\n",
              "      <th></th>\n",
              "      <th></th>\n",
              "      <th></th>\n",
              "      <th></th>\n",
              "      <th></th>\n",
              "      <th></th>\n",
              "      <th></th>\n",
              "      <th></th>\n",
              "      <th></th>\n",
              "      <th></th>\n",
              "      <th></th>\n",
              "      <th></th>\n",
              "      <th></th>\n",
              "      <th></th>\n",
              "      <th></th>\n",
              "      <th></th>\n",
              "      <th></th>\n",
              "      <th></th>\n",
              "      <th></th>\n",
              "      <th></th>\n",
              "      <th></th>\n",
              "      <th></th>\n",
              "      <th></th>\n",
              "      <th></th>\n",
              "      <th></th>\n",
              "      <th></th>\n",
              "      <th></th>\n",
              "      <th></th>\n",
              "      <th></th>\n",
              "      <th></th>\n",
              "      <th></th>\n",
              "      <th></th>\n",
              "      <th></th>\n",
              "      <th></th>\n",
              "      <th></th>\n",
              "      <th></th>\n",
              "      <th></th>\n",
              "      <th></th>\n",
              "    </tr>\n",
              "  </thead>\n",
              "  <tbody>\n",
              "    <tr>\n",
              "      <th>69572</th>\n",
              "      <td>6000.0</td>\n",
              "      <td>2011-03-14</td>\n",
              "      <td>Roman</td>\n",
              "      <td>1390</td>\n",
              "      <td>Roman</td>\n",
              "      <td>34.938093</td>\n",
              "      <td>-9.856322</td>\n",
              "      <td>none</td>\n",
              "      <td>0</td>\n",
              "      <td>Lake Nyasa</td>\n",
              "      <td>Mnyusi B</td>\n",
              "      <td>Iringa</td>\n",
              "      <td>11</td>\n",
              "      <td>5</td>\n",
              "      <td>Ludewa</td>\n",
              "      <td>Mundindi</td>\n",
              "      <td>109</td>\n",
              "      <td>True</td>\n",
              "      <td>GeoData Consultants Ltd</td>\n",
              "      <td>VWC</td>\n",
              "      <td>Roman</td>\n",
              "      <td>False</td>\n",
              "      <td>1999</td>\n",
              "      <td>gravity</td>\n",
              "      <td>gravity</td>\n",
              "      <td>gravity</td>\n",
              "      <td>vwc</td>\n",
              "      <td>user-group</td>\n",
              "      <td>pay annually</td>\n",
              "      <td>annually</td>\n",
              "      <td>soft</td>\n",
              "      <td>good</td>\n",
              "      <td>enough</td>\n",
              "      <td>enough</td>\n",
              "      <td>spring</td>\n",
              "      <td>spring</td>\n",
              "      <td>groundwater</td>\n",
              "      <td>communal standpipe</td>\n",
              "      <td>communal standpipe</td>\n",
              "    </tr>\n",
              "    <tr>\n",
              "      <th>8776</th>\n",
              "      <td>0.0</td>\n",
              "      <td>2013-03-06</td>\n",
              "      <td>Grumeti</td>\n",
              "      <td>1399</td>\n",
              "      <td>GRUMETI</td>\n",
              "      <td>34.698766</td>\n",
              "      <td>-2.147466</td>\n",
              "      <td>Zahanati</td>\n",
              "      <td>0</td>\n",
              "      <td>Lake Victoria</td>\n",
              "      <td>Nyamara</td>\n",
              "      <td>Mara</td>\n",
              "      <td>20</td>\n",
              "      <td>2</td>\n",
              "      <td>Serengeti</td>\n",
              "      <td>Natta</td>\n",
              "      <td>280</td>\n",
              "      <td>NaN</td>\n",
              "      <td>GeoData Consultants Ltd</td>\n",
              "      <td>Other</td>\n",
              "      <td>NaN</td>\n",
              "      <td>True</td>\n",
              "      <td>2010</td>\n",
              "      <td>gravity</td>\n",
              "      <td>gravity</td>\n",
              "      <td>gravity</td>\n",
              "      <td>wug</td>\n",
              "      <td>user-group</td>\n",
              "      <td>never pay</td>\n",
              "      <td>never pay</td>\n",
              "      <td>soft</td>\n",
              "      <td>good</td>\n",
              "      <td>insufficient</td>\n",
              "      <td>insufficient</td>\n",
              "      <td>rainwater harvesting</td>\n",
              "      <td>rainwater harvesting</td>\n",
              "      <td>surface</td>\n",
              "      <td>communal standpipe</td>\n",
              "      <td>communal standpipe</td>\n",
              "    </tr>\n",
              "    <tr>\n",
              "      <th>34310</th>\n",
              "      <td>25.0</td>\n",
              "      <td>2013-02-25</td>\n",
              "      <td>Lottery Club</td>\n",
              "      <td>686</td>\n",
              "      <td>World vision</td>\n",
              "      <td>37.460664</td>\n",
              "      <td>-3.821329</td>\n",
              "      <td>Kwa Mahundi</td>\n",
              "      <td>0</td>\n",
              "      <td>Pangani</td>\n",
              "      <td>Majengo</td>\n",
              "      <td>Manyara</td>\n",
              "      <td>21</td>\n",
              "      <td>4</td>\n",
              "      <td>Simanjiro</td>\n",
              "      <td>Ngorika</td>\n",
              "      <td>250</td>\n",
              "      <td>True</td>\n",
              "      <td>GeoData Consultants Ltd</td>\n",
              "      <td>VWC</td>\n",
              "      <td>Nyumba ya mungu pipe scheme</td>\n",
              "      <td>True</td>\n",
              "      <td>2009</td>\n",
              "      <td>gravity</td>\n",
              "      <td>gravity</td>\n",
              "      <td>gravity</td>\n",
              "      <td>vwc</td>\n",
              "      <td>user-group</td>\n",
              "      <td>pay per bucket</td>\n",
              "      <td>per bucket</td>\n",
              "      <td>soft</td>\n",
              "      <td>good</td>\n",
              "      <td>enough</td>\n",
              "      <td>enough</td>\n",
              "      <td>dam</td>\n",
              "      <td>dam</td>\n",
              "      <td>surface</td>\n",
              "      <td>communal standpipe multiple</td>\n",
              "      <td>communal standpipe</td>\n",
              "    </tr>\n",
              "    <tr>\n",
              "      <th>67743</th>\n",
              "      <td>0.0</td>\n",
              "      <td>2013-01-28</td>\n",
              "      <td>Unicef</td>\n",
              "      <td>263</td>\n",
              "      <td>UNICEF</td>\n",
              "      <td>38.486161</td>\n",
              "      <td>-11.155298</td>\n",
              "      <td>Zahanati Ya Nanyumbu</td>\n",
              "      <td>0</td>\n",
              "      <td>Ruvuma / Southern Coast</td>\n",
              "      <td>Mahakamani</td>\n",
              "      <td>Mtwara</td>\n",
              "      <td>90</td>\n",
              "      <td>63</td>\n",
              "      <td>Nanyumbu</td>\n",
              "      <td>Nanyumbu</td>\n",
              "      <td>58</td>\n",
              "      <td>True</td>\n",
              "      <td>GeoData Consultants Ltd</td>\n",
              "      <td>VWC</td>\n",
              "      <td>NaN</td>\n",
              "      <td>True</td>\n",
              "      <td>1986</td>\n",
              "      <td>submersible</td>\n",
              "      <td>submersible</td>\n",
              "      <td>submersible</td>\n",
              "      <td>vwc</td>\n",
              "      <td>user-group</td>\n",
              "      <td>never pay</td>\n",
              "      <td>never pay</td>\n",
              "      <td>soft</td>\n",
              "      <td>good</td>\n",
              "      <td>dry</td>\n",
              "      <td>dry</td>\n",
              "      <td>machine dbh</td>\n",
              "      <td>borehole</td>\n",
              "      <td>groundwater</td>\n",
              "      <td>communal standpipe multiple</td>\n",
              "      <td>communal standpipe</td>\n",
              "    </tr>\n",
              "    <tr>\n",
              "      <th>19728</th>\n",
              "      <td>0.0</td>\n",
              "      <td>2011-07-13</td>\n",
              "      <td>Action In A</td>\n",
              "      <td>0</td>\n",
              "      <td>Artisan</td>\n",
              "      <td>31.130847</td>\n",
              "      <td>-1.825359</td>\n",
              "      <td>Shuleni</td>\n",
              "      <td>0</td>\n",
              "      <td>Lake Victoria</td>\n",
              "      <td>Kyanyamisa</td>\n",
              "      <td>Kagera</td>\n",
              "      <td>18</td>\n",
              "      <td>1</td>\n",
              "      <td>Karagwe</td>\n",
              "      <td>Nyakasimbi</td>\n",
              "      <td>0</td>\n",
              "      <td>True</td>\n",
              "      <td>GeoData Consultants Ltd</td>\n",
              "      <td>NaN</td>\n",
              "      <td>NaN</td>\n",
              "      <td>True</td>\n",
              "      <td>0</td>\n",
              "      <td>gravity</td>\n",
              "      <td>gravity</td>\n",
              "      <td>gravity</td>\n",
              "      <td>other</td>\n",
              "      <td>other</td>\n",
              "      <td>never pay</td>\n",
              "      <td>never pay</td>\n",
              "      <td>soft</td>\n",
              "      <td>good</td>\n",
              "      <td>seasonal</td>\n",
              "      <td>seasonal</td>\n",
              "      <td>rainwater harvesting</td>\n",
              "      <td>rainwater harvesting</td>\n",
              "      <td>surface</td>\n",
              "      <td>communal standpipe</td>\n",
              "      <td>communal standpipe</td>\n",
              "    </tr>\n",
              "  </tbody>\n",
              "</table>\n",
              "</div>"
            ],
            "text/plain": [
              "       amount_tsh  ... waterpoint_type_group\n",
              "id                 ...                      \n",
              "69572      6000.0  ...    communal standpipe\n",
              "8776          0.0  ...    communal standpipe\n",
              "34310        25.0  ...    communal standpipe\n",
              "67743         0.0  ...    communal standpipe\n",
              "19728         0.0  ...    communal standpipe\n",
              "\n",
              "[5 rows x 39 columns]"
            ]
          },
          "metadata": {},
          "execution_count": 8
        }
      ]
    },
    {
      "cell_type": "markdown",
      "metadata": {
        "id": "kuRiD5LE-Tcg"
      },
      "source": [
        "**Train Labels**"
      ]
    },
    {
      "cell_type": "code",
      "metadata": {
        "colab": {
          "base_uri": "https://localhost:8080/",
          "height": 235
        },
        "id": "Z8Lx_brNrlXH",
        "outputId": "11940585-6b5c-4773-f650-67582f5977d8"
      },
      "source": [
        "train_labels[:5]"
      ],
      "execution_count": 9,
      "outputs": [
        {
          "output_type": "execute_result",
          "data": {
            "text/html": [
              "<div>\n",
              "<style scoped>\n",
              "    .dataframe tbody tr th:only-of-type {\n",
              "        vertical-align: middle;\n",
              "    }\n",
              "\n",
              "    .dataframe tbody tr th {\n",
              "        vertical-align: top;\n",
              "    }\n",
              "\n",
              "    .dataframe thead th {\n",
              "        text-align: right;\n",
              "    }\n",
              "</style>\n",
              "<table border=\"1\" class=\"dataframe\">\n",
              "  <thead>\n",
              "    <tr style=\"text-align: right;\">\n",
              "      <th></th>\n",
              "      <th>status_group</th>\n",
              "    </tr>\n",
              "    <tr>\n",
              "      <th>id</th>\n",
              "      <th></th>\n",
              "    </tr>\n",
              "  </thead>\n",
              "  <tbody>\n",
              "    <tr>\n",
              "      <th>69572</th>\n",
              "      <td>functional</td>\n",
              "    </tr>\n",
              "    <tr>\n",
              "      <th>8776</th>\n",
              "      <td>functional</td>\n",
              "    </tr>\n",
              "    <tr>\n",
              "      <th>34310</th>\n",
              "      <td>functional</td>\n",
              "    </tr>\n",
              "    <tr>\n",
              "      <th>67743</th>\n",
              "      <td>non functional</td>\n",
              "    </tr>\n",
              "    <tr>\n",
              "      <th>19728</th>\n",
              "      <td>functional</td>\n",
              "    </tr>\n",
              "  </tbody>\n",
              "</table>\n",
              "</div>"
            ],
            "text/plain": [
              "         status_group\n",
              "id                   \n",
              "69572      functional\n",
              "8776       functional\n",
              "34310      functional\n",
              "67743  non functional\n",
              "19728      functional"
            ]
          },
          "metadata": {},
          "execution_count": 9
        }
      ]
    },
    {
      "cell_type": "markdown",
      "metadata": {
        "id": "WsOPUKBq-WLF"
      },
      "source": [
        "**Dataset Information**"
      ]
    },
    {
      "cell_type": "code",
      "metadata": {
        "colab": {
          "base_uri": "https://localhost:8080/",
          "height": 821
        },
        "id": "llFmBEWPFYkS",
        "outputId": "31aa62f6-4652-43e1-8550-38343a8a4911"
      },
      "source": [
        "display(all_data.info())"
      ],
      "execution_count": 10,
      "outputs": [
        {
          "output_type": "stream",
          "name": "stdout",
          "text": [
            "<class 'pandas.core.frame.DataFrame'>\n",
            "Int64Index: 74250 entries, 69572 to 68707\n",
            "Data columns (total 39 columns):\n",
            " #   Column                 Non-Null Count  Dtype  \n",
            "---  ------                 --------------  -----  \n",
            " 0   amount_tsh             74250 non-null  float64\n",
            " 1   date_recorded          74250 non-null  object \n",
            " 2   funder                 69746 non-null  object \n",
            " 3   gps_height             74250 non-null  int64  \n",
            " 4   installer              69718 non-null  object \n",
            " 5   longitude              74250 non-null  float64\n",
            " 6   latitude               74250 non-null  float64\n",
            " 7   wpt_name               74250 non-null  object \n",
            " 8   num_private            74250 non-null  int64  \n",
            " 9   basin                  74250 non-null  object \n",
            " 10  subvillage             73780 non-null  object \n",
            " 11  region                 74250 non-null  object \n",
            " 12  region_code            74250 non-null  int64  \n",
            " 13  district_code          74250 non-null  int64  \n",
            " 14  lga                    74250 non-null  object \n",
            " 15  ward                   74250 non-null  object \n",
            " 16  population             74250 non-null  int64  \n",
            " 17  public_meeting         70095 non-null  object \n",
            " 18  recorded_by            74250 non-null  object \n",
            " 19  scheme_management      69404 non-null  object \n",
            " 20  scheme_name            38992 non-null  object \n",
            " 21  permit                 70457 non-null  object \n",
            " 22  construction_year      74250 non-null  int64  \n",
            " 23  extraction_type        74250 non-null  object \n",
            " 24  extraction_type_group  74250 non-null  object \n",
            " 25  extraction_type_class  74250 non-null  object \n",
            " 26  management             74250 non-null  object \n",
            " 27  management_group       74250 non-null  object \n",
            " 28  payment                74250 non-null  object \n",
            " 29  payment_type           74250 non-null  object \n",
            " 30  water_quality          74250 non-null  object \n",
            " 31  quality_group          74250 non-null  object \n",
            " 32  quantity               74250 non-null  object \n",
            " 33  quantity_group         74250 non-null  object \n",
            " 34  source                 74250 non-null  object \n",
            " 35  source_type            74250 non-null  object \n",
            " 36  source_class           74250 non-null  object \n",
            " 37  waterpoint_type        74250 non-null  object \n",
            " 38  waterpoint_type_group  74250 non-null  object \n",
            "dtypes: float64(3), int64(6), object(30)\n",
            "memory usage: 22.7+ MB\n"
          ]
        },
        {
          "output_type": "display_data",
          "data": {
            "text/plain": [
              "None"
            ]
          },
          "metadata": {}
        }
      ]
    },
    {
      "cell_type": "code",
      "metadata": {
        "colab": {
          "base_uri": "https://localhost:8080/"
        },
        "id": "jwyFN62S-HNc",
        "outputId": "da1dd9fa-c68c-4d6d-b37a-3da42e78b62e"
      },
      "source": [
        "train_labels.value_counts(normalize=True)"
      ],
      "execution_count": 144,
      "outputs": [
        {
          "output_type": "execute_result",
          "data": {
            "text/plain": [
              "status_group\n",
              "0               0.543081\n",
              "2               0.384242\n",
              "1               0.072677\n",
              "dtype: float64"
            ]
          },
          "metadata": {},
          "execution_count": 144
        }
      ]
    },
    {
      "cell_type": "code",
      "metadata": {
        "colab": {
          "base_uri": "https://localhost:8080/",
          "height": 303
        },
        "id": "OYq9AOk6U-Xd",
        "outputId": "5d589a3d-5296-473c-f21c-9453a6e77e74"
      },
      "source": [
        "train_labels.value_counts().plot(kind=\"bar\")"
      ],
      "execution_count": 142,
      "outputs": [
        {
          "output_type": "execute_result",
          "data": {
            "text/plain": [
              "<matplotlib.axes._subplots.AxesSubplot at 0x7f6fa28e76d0>"
            ]
          },
          "metadata": {},
          "execution_count": 142
        },
        {
          "output_type": "display_data",
          "data": {
            "image/png": "[encoded data removed]",
            "text/plain": [
              "<Figure size 432x288 with 1 Axes>"
            ]
          },
          "metadata": {
            "needs_background": "light"
          }
        }
      ]
    },
    {
      "cell_type": "markdown",
      "metadata": {
        "id": "cuVcls3JVOY-"
      },
      "source": [
        "We can see a imbalanced problem in the dataset as we have very few `functional needs repair` data. So we need to consider this when we apply the model to the dataset."
      ]
    },
    {
      "cell_type": "markdown",
      "metadata": {
        "id": "1BZ44STs59A5"
      },
      "source": [
        "#### **Get Unique Values in Each Feature**"
      ]
    },
    {
      "cell_type": "code",
      "metadata": {
        "id": "la3aJO5avmyR",
        "colab": {
          "base_uri": "https://localhost:8080/"
        },
        "outputId": "2a9e15f4-a766-4a02-9eb5-0fdbaf5ac61d"
      },
      "source": [
        "# # print('id', all_data.id.unique())\n",
        "# print('\\namount_tsh', all_data.amount_tsh.unique())\n",
        "# print('\\ndate_recorded', all_data.date_recorded.unique())\n",
        "# print('\\nfunder', all_data.funder.unique())\n",
        "# print('\\ngps_height', all_data.gps_height.unique())\n",
        "# print('\\ninstaller', all_data.installer.unique())\n",
        "# print('\\nlongitude', all_data.longitude.unique())\n",
        "# print('\\nlatitude', all_data.latitude.unique())\n",
        "# print('\\nwpt_name', all_data.wpt_name.unique())\n",
        "# print('\\nnum_private', all_data.num_private.unique())\n",
        "# print('\\nbasin', all_data.basin.unique())\n",
        "# print('\\nsubvillage', all_data.subvillage.unique())\n",
        "# print('\\nregion', all_data.region.unique())\n",
        "# print('\\nregion_code', all_data.region_code.unique())\n",
        "# print('\\ndistrict_code', all_data.district_code.unique())\n",
        "# print('\\nlga', all_data.lga.unique())\n",
        "# print('\\nward', all_data.ward.unique())\n",
        "# print('\\npopulation', all_data.population.unique())\n",
        "# print('\\npublic_meeting', all_data.public_meeting.unique())\n",
        "# print('\\nrecorded_by', all_data.recorded_by.unique())\n",
        "# print('\\nscheme_name', all_data.scheme_name.unique())\n",
        "# print('\\npermit', all_data.permit.unique())\n",
        "# print('\\nconstruction_year', all_data.construction_year.unique())\n",
        "print('\\nextraction_type', all_data.extraction_type.unique())\n",
        "print('extraction_type_group', all_data.extraction_type_group.unique())\n",
        "print('extraction_type_class', all_data.extraction_type_class.unique())\n",
        "print('\\nscheme_management', all_data.scheme_management.unique())\n",
        "print('management', all_data.management.unique())\n",
        "print('management_group', all_data.management_group.unique())\n",
        "print('\\npayment:', all_data.payment.unique())\n",
        "print('payment_type:', all_data.payment_type.unique())\n",
        "print('\\nwater_quality', all_data.water_quality.unique())\n",
        "print('quality_group', all_data.quality_group.unique())\n",
        "print('\\nquantity:', all_data.quantity.unique())\n",
        "print('quantity_group:', all_data.quantity_group.unique())\n",
        "print('\\nsource', all_data.source.unique())\n",
        "print('source_type', all_data.source_type.unique())\n",
        "print('source_class', all_data.source_class.unique())\n",
        "print('\\nwaterpoint_type', all_data.waterpoint_type.unique())\n",
        "print('waterpoint_type_group', all_data.waterpoint_type_group.unique())"
      ],
      "execution_count": 12,
      "outputs": [
        {
          "output_type": "stream",
          "name": "stdout",
          "text": [
            "\n",
            "extraction_type ['gravity' 'submersible' 'swn 80' 'nira/tanira' 'india mark ii' 'other'\n",
            " 'ksb' 'mono' 'windmill' 'afridev' 'other - rope pump' 'india mark iii'\n",
            " 'other - swn 81' 'other - play pump' 'cemo' 'climax' 'walimi'\n",
            " 'other - mkulima/shinyanga']\n",
            "extraction_type_group ['gravity' 'submersible' 'swn 80' 'nira/tanira' 'india mark ii' 'other'\n",
            " 'mono' 'wind-powered' 'afridev' 'rope pump' 'india mark iii'\n",
            " 'other handpump' 'other motorpump']\n",
            "extraction_type_class ['gravity' 'submersible' 'handpump' 'other' 'motorpump' 'wind-powered'\n",
            " 'rope pump']\n",
            "\n",
            "scheme_management ['VWC' 'Other' nan 'Private operator' 'WUG' 'Water Board' 'WUA'\n",
            " 'Water authority' 'Company' 'Parastatal' 'Trust' 'SWC' 'None']\n",
            "management ['vwc' 'wug' 'other' 'private operator' 'water board' 'wua' 'company'\n",
            " 'water authority' 'parastatal' 'unknown' 'other - school' 'trust']\n",
            "management_group ['user-group' 'other' 'commercial' 'parastatal' 'unknown']\n",
            "\n",
            "payment: ['pay annually' 'never pay' 'pay per bucket' 'unknown'\n",
            " 'pay when scheme fails' 'other' 'pay monthly']\n",
            "payment_type: ['annually' 'never pay' 'per bucket' 'unknown' 'on failure' 'other'\n",
            " 'monthly']\n",
            "\n",
            "water_quality ['soft' 'salty' 'milky' 'unknown' 'fluoride' 'coloured' 'salty abandoned'\n",
            " 'fluoride abandoned']\n",
            "quality_group ['good' 'salty' 'milky' 'unknown' 'fluoride' 'colored']\n",
            "\n",
            "quantity: ['enough' 'insufficient' 'dry' 'seasonal' 'unknown']\n",
            "quantity_group: ['enough' 'insufficient' 'dry' 'seasonal' 'unknown']\n",
            "\n",
            "source ['spring' 'rainwater harvesting' 'dam' 'machine dbh' 'other'\n",
            " 'shallow well' 'river' 'hand dtw' 'lake' 'unknown']\n",
            "source_type ['spring' 'rainwater harvesting' 'dam' 'borehole' 'other' 'shallow well'\n",
            " 'river/lake']\n",
            "source_class ['groundwater' 'surface' 'unknown']\n",
            "\n",
            "waterpoint_type ['communal standpipe' 'communal standpipe multiple' 'hand pump' 'other'\n",
            " 'improved spring' 'cattle trough' 'dam']\n",
            "waterpoint_type_group ['communal standpipe' 'hand pump' 'other' 'improved spring'\n",
            " 'cattle trough' 'dam']\n"
          ]
        }
      ]
    },
    {
      "cell_type": "markdown",
      "metadata": {
        "id": "hYOcQCcsCJcG"
      },
      "source": [
        "#### **Check value counts in similar type features**"
      ]
    },
    {
      "cell_type": "markdown",
      "metadata": {
        "id": "7ciITVSMIH0J"
      },
      "source": [
        "###### **Scheme_management, Management & Management_group**"
      ]
    },
    {
      "cell_type": "code",
      "metadata": {
        "colab": {
          "base_uri": "https://localhost:8080/"
        },
        "id": "PbSbvHydFPNM",
        "outputId": "1bac6cfa-9d18-4aee-fb63-a821051b3125"
      },
      "source": [
        "print(all_data.scheme_management.value_counts())\n",
        "print(\"NaN value count:\", all_data.scheme_management.isna().sum())"
      ],
      "execution_count": 13,
      "outputs": [
        {
          "output_type": "stream",
          "name": "stdout",
          "text": [
            "VWC                 45917\n",
            "WUG                  6496\n",
            "Water authority      3975\n",
            "WUA                  3551\n",
            "Water Board          3462\n",
            "Parastatal           2124\n",
            "Company              1341\n",
            "Private operator     1326\n",
            "Other                 996\n",
            "SWC                   123\n",
            "Trust                  92\n",
            "None                    1\n",
            "Name: scheme_management, dtype: int64\n",
            "NaN value count: 4846\n"
          ]
        }
      ]
    },
    {
      "cell_type": "code",
      "metadata": {
        "colab": {
          "base_uri": "https://localhost:8080/"
        },
        "id": "egBDFNwOGUR4",
        "outputId": "ab60c72a-b4b7-4bf6-d0a7-24a886893861"
      },
      "source": [
        "all_data.management.value_counts()"
      ],
      "execution_count": 14,
      "outputs": [
        {
          "output_type": "execute_result",
          "data": {
            "text/plain": [
              "vwc                 50624\n",
              "wug                  8108\n",
              "water board          3688\n",
              "wua                  3118\n",
              "private operator     2504\n",
              "parastatal           2229\n",
              "water authority      1123\n",
              "other                1083\n",
              "company               859\n",
              "unknown               683\n",
              "other - school        126\n",
              "trust                 105\n",
              "Name: management, dtype: int64"
            ]
          },
          "metadata": {},
          "execution_count": 14
        }
      ]
    },
    {
      "cell_type": "markdown",
      "metadata": {
        "id": "ddg3t-pEO8eU"
      },
      "source": [
        "Both scheme_management & management features seems to have same kind of details, so we can drop one of these features. As the scheme_management have some NaN values we decided to drop that feature."
      ]
    },
    {
      "cell_type": "code",
      "metadata": {
        "colab": {
          "base_uri": "https://localhost:8080/"
        },
        "id": "Ecz69XTbOu-3",
        "outputId": "0a0a62d5-ee4f-4724-bdd0-c824aed7e11a"
      },
      "source": [
        "print(all_data.groupby(['management','management_group']).count())"
      ],
      "execution_count": 15,
      "outputs": [
        {
          "output_type": "stream",
          "name": "stdout",
          "text": [
            "                                   amount_tsh  ...  waterpoint_type_group\n",
            "management       management_group              ...                       \n",
            "company          commercial               859  ...                    859\n",
            "other            other                   1083  ...                   1083\n",
            "other - school   other                    126  ...                    126\n",
            "parastatal       parastatal              2229  ...                   2229\n",
            "private operator commercial              2504  ...                   2504\n",
            "trust            commercial               105  ...                    105\n",
            "unknown          unknown                  683  ...                    683\n",
            "vwc              user-group             50624  ...                  50624\n",
            "water authority  commercial              1123  ...                   1123\n",
            "water board      user-group              3688  ...                   3688\n",
            "wua              user-group              3118  ...                   3118\n",
            "wug              user-group              8108  ...                   8108\n",
            "\n",
            "[12 rows x 37 columns]\n"
          ]
        }
      ]
    },
    {
      "cell_type": "markdown",
      "metadata": {
        "id": "PA8gPRkrQr7E"
      },
      "source": [
        "According to above output, we can see management_group is just a grouped version of the management so we can drop management_group which has less details."
      ]
    },
    {
      "cell_type": "markdown",
      "metadata": {
        "id": "TtdUKvCeIPyM"
      },
      "source": [
        "###### **Payment & Payment_type**"
      ]
    },
    {
      "cell_type": "code",
      "metadata": {
        "colab": {
          "base_uri": "https://localhost:8080/"
        },
        "id": "EZiW_pUq-E5q",
        "outputId": "ce41de61-d6f0-4a94-fd65-5c6c338fa942"
      },
      "source": [
        "all_data.payment.value_counts()"
      ],
      "execution_count": 16,
      "outputs": [
        {
          "output_type": "execute_result",
          "data": {
            "text/plain": [
              "never pay                31712\n",
              "pay per bucket           11266\n",
              "pay monthly              10397\n",
              "unknown                  10149\n",
              "pay when scheme fails     4842\n",
              "pay annually              4570\n",
              "other                     1314\n",
              "Name: payment, dtype: int64"
            ]
          },
          "metadata": {},
          "execution_count": 16
        }
      ]
    },
    {
      "cell_type": "code",
      "metadata": {
        "colab": {
          "base_uri": "https://localhost:8080/"
        },
        "id": "7cHg_eMM_WPV",
        "outputId": "338039da-e1f6-463d-d129-b02dbd4c2297"
      },
      "source": [
        "all_data.payment_type.value_counts()"
      ],
      "execution_count": 17,
      "outputs": [
        {
          "output_type": "execute_result",
          "data": {
            "text/plain": [
              "never pay     31712\n",
              "per bucket    11266\n",
              "monthly       10397\n",
              "unknown       10149\n",
              "on failure     4842\n",
              "annually       4570\n",
              "other          1314\n",
              "Name: payment_type, dtype: int64"
            ]
          },
          "metadata": {},
          "execution_count": 17
        }
      ]
    },
    {
      "cell_type": "code",
      "metadata": {
        "colab": {
          "base_uri": "https://localhost:8080/"
        },
        "id": "UXnscgLBKmxa",
        "outputId": "336d69a0-9003-4515-a52a-e5fcfb66c664"
      },
      "source": [
        "print(all_data.groupby(['payment','payment_type']).count())"
      ],
      "execution_count": 18,
      "outputs": [
        {
          "output_type": "stream",
          "name": "stdout",
          "text": [
            "                                    amount_tsh  ...  waterpoint_type_group\n",
            "payment               payment_type              ...                       \n",
            "never pay             never pay          31712  ...                  31712\n",
            "other                 other               1314  ...                   1314\n",
            "pay annually          annually            4570  ...                   4570\n",
            "pay monthly           monthly            10397  ...                  10397\n",
            "pay per bucket        per bucket         11266  ...                  11266\n",
            "pay when scheme fails on failure          4842  ...                   4842\n",
            "unknown               unknown            10149  ...                  10149\n",
            "\n",
            "[7 rows x 37 columns]\n"
          ]
        }
      ]
    },
    {
      "cell_type": "markdown",
      "metadata": {
        "id": "lqvw6YraLpFi"
      },
      "source": [
        "Both payment and payment_type have same values so we can drop one of them."
      ]
    },
    {
      "cell_type": "markdown",
      "metadata": {
        "id": "fcti3OWmIeN1"
      },
      "source": [
        "###### **Water_quality & Quality_group**"
      ]
    },
    {
      "cell_type": "code",
      "metadata": {
        "colab": {
          "base_uri": "https://localhost:8080/"
        },
        "id": "lGTTpGCiDCmS",
        "outputId": "88db3596-24a8-4bc7-f90b-a125e7a10ebd"
      },
      "source": [
        "all_data.water_quality.value_counts()"
      ],
      "execution_count": 19,
      "outputs": [
        {
          "output_type": "execute_result",
          "data": {
            "text/plain": [
              "soft                  63505\n",
              "salty                  6082\n",
              "unknown                2345\n",
              "milky                  1005\n",
              "coloured                623\n",
              "salty abandoned         423\n",
              "fluoride                244\n",
              "fluoride abandoned       23\n",
              "Name: water_quality, dtype: int64"
            ]
          },
          "metadata": {},
          "execution_count": 19
        }
      ]
    },
    {
      "cell_type": "code",
      "metadata": {
        "colab": {
          "base_uri": "https://localhost:8080/"
        },
        "id": "wfV__2NBDJWW",
        "outputId": "843db15b-4e39-4720-e35f-d7f6653171f0"
      },
      "source": [
        "all_data.quality_group.value_counts()"
      ],
      "execution_count": 20,
      "outputs": [
        {
          "output_type": "execute_result",
          "data": {
            "text/plain": [
              "good        63505\n",
              "salty        6505\n",
              "unknown      2345\n",
              "milky        1005\n",
              "colored       623\n",
              "fluoride      267\n",
              "Name: quality_group, dtype: int64"
            ]
          },
          "metadata": {},
          "execution_count": 20
        }
      ]
    },
    {
      "cell_type": "code",
      "metadata": {
        "colab": {
          "base_uri": "https://localhost:8080/"
        },
        "id": "-OVT7H4nK5R1",
        "outputId": "9066d5fc-cd31-4f9b-82a6-1580005ac9dc"
      },
      "source": [
        "print(all_data.groupby(['water_quality','quality_group']).count())"
      ],
      "execution_count": 21,
      "outputs": [
        {
          "output_type": "stream",
          "name": "stdout",
          "text": [
            "                                  amount_tsh  ...  waterpoint_type_group\n",
            "water_quality      quality_group              ...                       \n",
            "coloured           colored               623  ...                    623\n",
            "fluoride           fluoride              244  ...                    244\n",
            "fluoride abandoned fluoride               23  ...                     23\n",
            "milky              milky                1005  ...                   1005\n",
            "salty              salty                6082  ...                   6082\n",
            "salty abandoned    salty                 423  ...                    423\n",
            "soft               good                63505  ...                  63505\n",
            "unknown            unknown              2345  ...                   2345\n",
            "\n",
            "[8 rows x 37 columns]\n"
          ]
        }
      ]
    },
    {
      "cell_type": "markdown",
      "metadata": {
        "id": "kBskBo5gL_HU"
      },
      "source": [
        "*Both water_quality & quality_group seem to be similar but since water_quality has more details (fluoride and salty in quality_group devided into some more classes in water_quality) we can drop quality_group.*"
      ]
    },
    {
      "cell_type": "markdown",
      "metadata": {
        "id": "Pb4W6uOEIlpo"
      },
      "source": [
        "###### **Quantity vs Quantity_group**"
      ]
    },
    {
      "cell_type": "code",
      "metadata": {
        "colab": {
          "base_uri": "https://localhost:8080/"
        },
        "id": "LnTXp0YW_cIg",
        "outputId": "8f15a9bf-b8de-4492-e794-c2e308290de8"
      },
      "source": [
        "all_data.quantity.value_counts()"
      ],
      "execution_count": 22,
      "outputs": [
        {
          "output_type": "execute_result",
          "data": {
            "text/plain": [
              "enough          41522\n",
              "insufficient    18896\n",
              "dry              7782\n",
              "seasonal         5075\n",
              "unknown           975\n",
              "Name: quantity, dtype: int64"
            ]
          },
          "metadata": {},
          "execution_count": 22
        }
      ]
    },
    {
      "cell_type": "code",
      "metadata": {
        "colab": {
          "base_uri": "https://localhost:8080/"
        },
        "id": "CCq7Njm2_7WD",
        "outputId": "94cf2aac-9a8e-40a5-f4ec-356d23357ca2"
      },
      "source": [
        "all_data.quantity_group.value_counts()"
      ],
      "execution_count": 23,
      "outputs": [
        {
          "output_type": "execute_result",
          "data": {
            "text/plain": [
              "enough          41522\n",
              "insufficient    18896\n",
              "dry              7782\n",
              "seasonal         5075\n",
              "unknown           975\n",
              "Name: quantity_group, dtype: int64"
            ]
          },
          "metadata": {},
          "execution_count": 23
        }
      ]
    },
    {
      "cell_type": "code",
      "metadata": {
        "colab": {
          "base_uri": "https://localhost:8080/"
        },
        "id": "B5X8yz0rNAJf",
        "outputId": "051a50e5-91cc-42a6-97c0-abd470a1c475"
      },
      "source": [
        "print(all_data.groupby(['quantity','quantity_group']).count())"
      ],
      "execution_count": 24,
      "outputs": [
        {
          "output_type": "stream",
          "name": "stdout",
          "text": [
            "                             amount_tsh  ...  waterpoint_type_group\n",
            "quantity     quantity_group              ...                       \n",
            "dry          dry                   7782  ...                   7782\n",
            "enough       enough               41522  ...                  41522\n",
            "insufficient insufficient         18896  ...                  18896\n",
            "seasonal     seasonal              5075  ...                   5075\n",
            "unknown      unknown                975  ...                    975\n",
            "\n",
            "[5 rows x 37 columns]\n"
          ]
        }
      ]
    },
    {
      "cell_type": "markdown",
      "metadata": {
        "id": "fZXFmKFDMHAd"
      },
      "source": [
        "*Both qunatity and quantity_group have same values so we can drop one of them.*"
      ]
    },
    {
      "cell_type": "markdown",
      "metadata": {
        "id": "T7TkoMM0I0FX"
      },
      "source": [
        "###### **Waterpoint_type vs Water Type Group**"
      ]
    },
    {
      "cell_type": "code",
      "metadata": {
        "colab": {
          "base_uri": "https://localhost:8080/"
        },
        "id": "A18aPtCFI6FK",
        "outputId": "6f06515b-14ff-4eed-ecf9-9d37390ab419"
      },
      "source": [
        "all_data.waterpoint_type.value_counts()"
      ],
      "execution_count": 25,
      "outputs": [
        {
          "output_type": "execute_result",
          "data": {
            "text/plain": [
              "communal standpipe             35628\n",
              "hand pump                      21884\n",
              "other                           8010\n",
              "communal standpipe multiple     7611\n",
              "improved spring                  959\n",
              "cattle trough                    150\n",
              "dam                                8\n",
              "Name: waterpoint_type, dtype: int64"
            ]
          },
          "metadata": {},
          "execution_count": 25
        }
      ]
    },
    {
      "cell_type": "code",
      "metadata": {
        "colab": {
          "base_uri": "https://localhost:8080/"
        },
        "id": "zraDQbYiJPfH",
        "outputId": "ecfa04a5-cb74-4be8-9945-a59f9dbbaef7"
      },
      "source": [
        "all_data.waterpoint_type_group.value_counts()"
      ],
      "execution_count": 26,
      "outputs": [
        {
          "output_type": "execute_result",
          "data": {
            "text/plain": [
              "communal standpipe    43239\n",
              "hand pump             21884\n",
              "other                  8010\n",
              "improved spring         959\n",
              "cattle trough           150\n",
              "dam                       8\n",
              "Name: waterpoint_type_group, dtype: int64"
            ]
          },
          "metadata": {},
          "execution_count": 26
        }
      ]
    },
    {
      "cell_type": "code",
      "metadata": {
        "colab": {
          "base_uri": "https://localhost:8080/"
        },
        "id": "r6CifGOGNJAx",
        "outputId": "78a5565e-68a4-4d1b-add4-c5618fc5cd9c"
      },
      "source": [
        "print(all_data.groupby(['waterpoint_type','waterpoint_type_group']).count())"
      ],
      "execution_count": 27,
      "outputs": [
        {
          "output_type": "stream",
          "name": "stdout",
          "text": [
            "                                                   amount_tsh  ...  source_class\n",
            "waterpoint_type             waterpoint_type_group              ...              \n",
            "cattle trough               cattle trough                 150  ...           150\n",
            "communal standpipe          communal standpipe          35628  ...         35628\n",
            "communal standpipe multiple communal standpipe           7611  ...          7611\n",
            "dam                         dam                             8  ...             8\n",
            "hand pump                   hand pump                   21884  ...         21884\n",
            "improved spring             improved spring               959  ...           959\n",
            "other                       other                        8010  ...          8010\n",
            "\n",
            "[7 rows x 37 columns]\n"
          ]
        }
      ]
    },
    {
      "cell_type": "markdown",
      "metadata": {
        "id": "CuSevEdgMOCP"
      },
      "source": [
        "*Both waterpoint_type & waterpoint_type_group seems to have similar values. As waterpoint_type has more details we can drop other one.*"
      ]
    },
    {
      "cell_type": "markdown",
      "metadata": {
        "id": "UmZ9duFfa6nh"
      },
      "source": [
        "###### **Extraction_type, extraction_type_group & extraction_type_class**"
      ]
    },
    {
      "cell_type": "code",
      "metadata": {
        "colab": {
          "base_uri": "https://localhost:8080/"
        },
        "id": "z1X8cfC3bQil",
        "outputId": "5ebebb37-8fc8-4a0e-e931-dd1ba65478b6"
      },
      "source": [
        "all_data.extraction_type.value_counts()"
      ],
      "execution_count": 28,
      "outputs": [
        {
          "output_type": "execute_result",
          "data": {
            "text/plain": [
              "gravity                      33263\n",
              "nira/tanira                  10205\n",
              "other                         8102\n",
              "submersible                   5982\n",
              "swn 80                        4588\n",
              "mono                          3628\n",
              "india mark ii                 3029\n",
              "afridev                       2208\n",
              "ksb                           1790\n",
              "other - rope pump              572\n",
              "other - swn 81                 284\n",
              "windmill                       152\n",
              "india mark iii                 135\n",
              "cemo                           108\n",
              "other - play pump              101\n",
              "walimi                          60\n",
              "climax                          41\n",
              "other - mkulima/shinyanga        2\n",
              "Name: extraction_type, dtype: int64"
            ]
          },
          "metadata": {},
          "execution_count": 28
        }
      ]
    },
    {
      "cell_type": "code",
      "metadata": {
        "colab": {
          "base_uri": "https://localhost:8080/"
        },
        "id": "_B5THfwebgT-",
        "outputId": "1cb8d309-7e4a-4c60-e4e1-90f74ad354ec"
      },
      "source": [
        "all_data.extraction_type_group.value_counts()"
      ],
      "execution_count": 29,
      "outputs": [
        {
          "output_type": "execute_result",
          "data": {
            "text/plain": [
              "gravity            33263\n",
              "nira/tanira        10205\n",
              "other               8102\n",
              "submersible         7772\n",
              "swn 80              4588\n",
              "mono                3628\n",
              "india mark ii       3029\n",
              "afridev             2208\n",
              "rope pump            572\n",
              "other handpump       447\n",
              "wind-powered         152\n",
              "other motorpump      149\n",
              "india mark iii       135\n",
              "Name: extraction_type_group, dtype: int64"
            ]
          },
          "metadata": {},
          "execution_count": 29
        }
      ]
    },
    {
      "cell_type": "code",
      "metadata": {
        "colab": {
          "base_uri": "https://localhost:8080/"
        },
        "id": "5oebXB5CbxSk",
        "outputId": "6eb8b1aa-324b-49a6-9741-8efafa76556e"
      },
      "source": [
        "print(all_data.groupby(['extraction_type','extraction_type_group']).count())"
      ],
      "execution_count": 30,
      "outputs": [
        {
          "output_type": "stream",
          "name": "stdout",
          "text": [
            "                                                 amount_tsh  ...  waterpoint_type_group\n",
            "extraction_type           extraction_type_group              ...                       \n",
            "afridev                   afridev                      2208  ...                   2208\n",
            "cemo                      other motorpump               108  ...                    108\n",
            "climax                    other motorpump                41  ...                     41\n",
            "gravity                   gravity                     33263  ...                  33263\n",
            "india mark ii             india mark ii                3029  ...                   3029\n",
            "india mark iii            india mark iii                135  ...                    135\n",
            "ksb                       submersible                  1790  ...                   1790\n",
            "mono                      mono                         3628  ...                   3628\n",
            "nira/tanira               nira/tanira                 10205  ...                  10205\n",
            "other                     other                        8102  ...                   8102\n",
            "other - mkulima/shinyanga other handpump                  2  ...                      2\n",
            "other - play pump         other handpump                101  ...                    101\n",
            "other - rope pump         rope pump                     572  ...                    572\n",
            "other - swn 81            other handpump                284  ...                    284\n",
            "submersible               submersible                  5982  ...                   5982\n",
            "swn 80                    swn 80                       4588  ...                   4588\n",
            "walimi                    other handpump                 60  ...                     60\n",
            "windmill                  wind-powered                  152  ...                    152\n",
            "\n",
            "[18 rows x 37 columns]\n"
          ]
        }
      ]
    },
    {
      "cell_type": "markdown",
      "metadata": {
        "id": "FCQAe08Nb_8V"
      },
      "source": [
        "Both extraction_type & extraction_type_group seems to have same details but in `extraction_type` some classes have very low values compared to the total number of data. So we can drop the `extraction_type`."
      ]
    },
    {
      "cell_type": "code",
      "metadata": {
        "colab": {
          "base_uri": "https://localhost:8080/"
        },
        "id": "MRVCJwhadima",
        "outputId": "6a41eb0e-6149-4b96-afaa-5c639b1a4ea7"
      },
      "source": [
        "all_data.extraction_type_class.value_counts()"
      ],
      "execution_count": 31,
      "outputs": [
        {
          "output_type": "execute_result",
          "data": {
            "text/plain": [
              "gravity         33263\n",
              "handpump        20612\n",
              "other            8102\n",
              "submersible      7772\n",
              "motorpump        3777\n",
              "rope pump         572\n",
              "wind-powered      152\n",
              "Name: extraction_type_class, dtype: int64"
            ]
          },
          "metadata": {},
          "execution_count": 31
        }
      ]
    },
    {
      "cell_type": "code",
      "metadata": {
        "colab": {
          "base_uri": "https://localhost:8080/"
        },
        "id": "VpeWI5RZezDn",
        "outputId": "b0afe01f-f289-47fe-d647-4e84dd692764"
      },
      "source": [
        "print(all_data.groupby(['extraction_type_group', 'extraction_type_class']).count())"
      ],
      "execution_count": 32,
      "outputs": [
        {
          "output_type": "stream",
          "name": "stdout",
          "text": [
            "                                             amount_tsh  ...  waterpoint_type_group\n",
            "extraction_type_group extraction_type_class              ...                       \n",
            "afridev               handpump                     2208  ...                   2208\n",
            "gravity               gravity                     33263  ...                  33263\n",
            "india mark ii         handpump                     3029  ...                   3029\n",
            "india mark iii        handpump                      135  ...                    135\n",
            "mono                  motorpump                    3628  ...                   3628\n",
            "nira/tanira           handpump                    10205  ...                  10205\n",
            "other                 other                        8102  ...                   8102\n",
            "other handpump        handpump                      447  ...                    447\n",
            "other motorpump       motorpump                     149  ...                    149\n",
            "rope pump             rope pump                     572  ...                    572\n",
            "submersible           submersible                  7772  ...                   7772\n",
            "swn 80                handpump                     4588  ...                   4588\n",
            "wind-powered          wind-powered                  152  ...                    152\n",
            "\n",
            "[13 rows x 37 columns]\n"
          ]
        }
      ]
    },
    {
      "cell_type": "markdown",
      "metadata": {
        "id": "MFfDn5O2e9k2"
      },
      "source": [
        "Both `extraction_type_group` & `extraction_type_class` seems to have same details but since `extraction_type_class` have less details we can drop that one."
      ]
    },
    {
      "cell_type": "markdown",
      "metadata": {
        "id": "tdxhXQExfnH_"
      },
      "source": [
        "###### **Source, Source_type & Source_class columns**"
      ]
    },
    {
      "cell_type": "code",
      "metadata": {
        "colab": {
          "base_uri": "https://localhost:8080/"
        },
        "id": "d5bQz2M0fy4r",
        "outputId": "5cebd74e-0b80-4568-ebd2-b06150e88f88"
      },
      "source": [
        "all_data.source.value_counts()"
      ],
      "execution_count": 33,
      "outputs": [
        {
          "output_type": "execute_result",
          "data": {
            "text/plain": [
              "spring                  21216\n",
              "shallow well            21140\n",
              "machine dbh             13822\n",
              "river                   11964\n",
              "rainwater harvesting     2863\n",
              "hand dtw                 1108\n",
              "lake                      950\n",
              "dam                       840\n",
              "other                     261\n",
              "unknown                    86\n",
              "Name: source, dtype: int64"
            ]
          },
          "metadata": {},
          "execution_count": 33
        }
      ]
    },
    {
      "cell_type": "code",
      "metadata": {
        "colab": {
          "base_uri": "https://localhost:8080/"
        },
        "id": "J74YTlhogrIG",
        "outputId": "2c56c0eb-4191-4853-fdcc-d8af75f8614a"
      },
      "source": [
        "all_data.source_type.value_counts()"
      ],
      "execution_count": 34,
      "outputs": [
        {
          "output_type": "execute_result",
          "data": {
            "text/plain": [
              "spring                  21216\n",
              "shallow well            21140\n",
              "borehole                14930\n",
              "river/lake              12914\n",
              "rainwater harvesting     2863\n",
              "dam                       840\n",
              "other                     347\n",
              "Name: source_type, dtype: int64"
            ]
          },
          "metadata": {},
          "execution_count": 34
        }
      ]
    },
    {
      "cell_type": "code",
      "metadata": {
        "colab": {
          "base_uri": "https://localhost:8080/"
        },
        "id": "NKzl47a_gviN",
        "outputId": "8bee803b-5ffd-419a-f2e7-74fa079467f0"
      },
      "source": [
        "all_data.source_class.value_counts()"
      ],
      "execution_count": 35,
      "outputs": [
        {
          "output_type": "execute_result",
          "data": {
            "text/plain": [
              "groundwater    57286\n",
              "surface        16617\n",
              "unknown          347\n",
              "Name: source_class, dtype: int64"
            ]
          },
          "metadata": {},
          "execution_count": 35
        }
      ]
    },
    {
      "cell_type": "code",
      "metadata": {
        "colab": {
          "base_uri": "https://localhost:8080/"
        },
        "id": "nir6-6DQhskJ",
        "outputId": "e5c6ec0c-b6be-4ee4-cb49-75b466039c97"
      },
      "source": [
        "print(all_data.groupby(['source','source_type', 'source_class']).count())"
      ],
      "execution_count": 36,
      "outputs": [
        {
          "output_type": "stream",
          "name": "stdout",
          "text": [
            "                                                        amount_tsh  ...  waterpoint_type_group\n",
            "source               source_type          source_class              ...                       \n",
            "dam                  dam                  surface              840  ...                    840\n",
            "hand dtw             borehole             groundwater         1108  ...                   1108\n",
            "lake                 river/lake           surface              950  ...                    950\n",
            "machine dbh          borehole             groundwater        13822  ...                  13822\n",
            "other                other                unknown              261  ...                    261\n",
            "rainwater harvesting rainwater harvesting surface             2863  ...                   2863\n",
            "river                river/lake           surface            11964  ...                  11964\n",
            "shallow well         shallow well         groundwater        21140  ...                  21140\n",
            "spring               spring               groundwater        21216  ...                  21216\n",
            "unknown              other                unknown               86  ...                     86\n",
            "\n",
            "[10 rows x 36 columns]\n"
          ]
        }
      ]
    },
    {
      "cell_type": "markdown",
      "metadata": {
        "id": "9Oyuvz-Jh4WD"
      },
      "source": [
        "All three features seems to have the same details. We can drop `source_type`, `source_class` as they have less details and keep `source` feature only."
      ]
    },
    {
      "cell_type": "markdown",
      "metadata": {
        "id": "ZrLGpL_oNY1-"
      },
      "source": [
        "#### **Plot Figures**"
      ]
    },
    {
      "cell_type": "code",
      "metadata": {
        "id": "mCk1t3r6N6sl"
      },
      "source": [
        "Xy = pd.merge(train_labels, train_data, how = 'inner', left_index = True, right_index=True) # merging train_labels to train_data"
      ],
      "execution_count": 37,
      "outputs": []
    },
    {
      "cell_type": "code",
      "metadata": {
        "colab": {
          "base_uri": "https://localhost:8080/",
          "height": 296
        },
        "id": "CAonR5p6-DKr",
        "outputId": "e7d73e0c-8bf8-46eb-f708-5f92b006ebdb"
      },
      "source": [
        "plt.figure(1, figsize=(20,4))\n",
        "sns.countplot(x='extraction_type_group', hue=\"status_group\", data=Xy)"
      ],
      "execution_count": 38,
      "outputs": [
        {
          "output_type": "execute_result",
          "data": {
            "text/plain": [
              "<matplotlib.axes._subplots.AxesSubplot at 0x7f6fb24b7150>"
            ]
          },
          "metadata": {},
          "execution_count": 38
        },
        {
          "output_type": "display_data",
          "data": {
            "image/png": "[encoded data removed]",
            "text/plain": [
              "<Figure size 1440x288 with 1 Axes>"
            ]
          },
          "metadata": {
            "needs_background": "light"
          }
        }
      ]
    },
    {
      "cell_type": "code",
      "metadata": {
        "colab": {
          "base_uri": "https://localhost:8080/",
          "height": 295
        },
        "id": "jUE4Qhql95o8",
        "outputId": "c12eaab7-69de-4185-a2b3-761aa3de928b"
      },
      "source": [
        "plt.figure(1, figsize=(20,4))\n",
        "sns.countplot(x='payment', hue=\"status_group\", data=Xy)"
      ],
      "execution_count": 39,
      "outputs": [
        {
          "output_type": "execute_result",
          "data": {
            "text/plain": [
              "<matplotlib.axes._subplots.AxesSubplot at 0x7f6ffa03d050>"
            ]
          },
          "metadata": {},
          "execution_count": 39
        },
        {
          "output_type": "display_data",
          "data": {
            "image/png": "[encoded data removed]",
            "text/plain": [
              "<Figure size 1440x288 with 1 Axes>"
            ]
          },
          "metadata": {
            "needs_background": "light"
          }
        }
      ]
    },
    {
      "cell_type": "code",
      "metadata": {
        "colab": {
          "base_uri": "https://localhost:8080/",
          "height": 299
        },
        "id": "TlPd7dWL9PDB",
        "outputId": "c51d8ca9-bb24-4724-f935-4c7af1a05016"
      },
      "source": [
        "plt.figure(1, figsize=(20,4))\n",
        "sns.countplot(x='water_quality', hue=\"status_group\", data=Xy)"
      ],
      "execution_count": 40,
      "outputs": [
        {
          "output_type": "execute_result",
          "data": {
            "text/plain": [
              "<matplotlib.axes._subplots.AxesSubplot at 0x7f6fb24aee90>"
            ]
          },
          "metadata": {},
          "execution_count": 40
        },
        {
          "output_type": "display_data",
          "data": {
            "image/png": "[encoded data removed]",
            "text/plain": [
              "<Figure size 1440x288 with 1 Axes>"
            ]
          },
          "metadata": {
            "needs_background": "light"
          }
        }
      ]
    },
    {
      "cell_type": "code",
      "metadata": {
        "colab": {
          "base_uri": "https://localhost:8080/",
          "height": 295
        },
        "id": "X6EJ2cxV7XPn",
        "outputId": "85312482-047a-4d13-95b1-d83bf5bbb7e2"
      },
      "source": [
        "plt.figure(1, figsize=(20,4))\n",
        "sns.countplot(x='quantity', hue=\"status_group\", data=Xy)"
      ],
      "execution_count": 41,
      "outputs": [
        {
          "output_type": "execute_result",
          "data": {
            "text/plain": [
              "<matplotlib.axes._subplots.AxesSubplot at 0x7f6fb1e82850>"
            ]
          },
          "metadata": {},
          "execution_count": 41
        },
        {
          "output_type": "display_data",
          "data": {
            "image/png": "[encoded data removed]",
            "text/plain": [
              "<Figure size 1440x288 with 1 Axes>"
            ]
          },
          "metadata": {
            "needs_background": "light"
          }
        }
      ]
    },
    {
      "cell_type": "code",
      "metadata": {
        "colab": {
          "base_uri": "https://localhost:8080/",
          "height": 295
        },
        "id": "e0JNEhvKNknz",
        "outputId": "8524243f-1722-4a6a-b683-7116fadd0122"
      },
      "source": [
        "plt.figure(1, figsize=(20,4))\n",
        "sns.countplot(x='source', hue=\"status_group\", data=Xy)"
      ],
      "execution_count": 42,
      "outputs": [
        {
          "output_type": "execute_result",
          "data": {
            "text/plain": [
              "<matplotlib.axes._subplots.AxesSubplot at 0x7f6fb1d67c10>"
            ]
          },
          "metadata": {},
          "execution_count": 42
        },
        {
          "output_type": "display_data",
          "data": {
            "image/png": "[encoded data removed]",
            "text/plain": [
              "<Figure size 1440x288 with 1 Axes>"
            ]
          },
          "metadata": {
            "needs_background": "light"
          }
        }
      ]
    },
    {
      "cell_type": "code",
      "metadata": {
        "colab": {
          "base_uri": "https://localhost:8080/",
          "height": 296
        },
        "id": "w7xyNYMJTZNP",
        "outputId": "45318dc9-28dc-4163-c183-dd6c6ae7db5f"
      },
      "source": [
        "plt.figure(2, figsize=(20,4))\n",
        "sns.countplot(x='waterpoint_type', hue=\"status_group\", data=Xy)"
      ],
      "execution_count": 43,
      "outputs": [
        {
          "output_type": "execute_result",
          "data": {
            "text/plain": [
              "<matplotlib.axes._subplots.AxesSubplot at 0x7f6fb1b89450>"
            ]
          },
          "metadata": {},
          "execution_count": 43
        },
        {
          "output_type": "display_data",
          "data": {
            "image/png": "[encoded data removed]",
            "text/plain": [
              "<Figure size 1440x288 with 1 Axes>"
            ]
          },
          "metadata": {
            "needs_background": "light"
          }
        }
      ]
    },
    {
      "cell_type": "markdown",
      "metadata": {
        "id": "sDALJ-Eys_3d"
      },
      "source": [
        "## **Summary:**\n",
        "\n",
        "The numeric features : \n",
        "* amount_tsh\n",
        "* gps_height\n",
        "* longitude\n",
        "* latitude \n",
        "* num_private\n",
        "* population\n",
        "\n",
        "Categorical Features :\n",
        "* date_recoreded, funder, installer, wpt_name, basin, subvillage, region, region_code, district_code, lga, ward, public_meeting, recorded_by, scheme_management, scheme_name, permit, construction_year, extraction_type,extraction_type_group, extraction_type_class, management, management_group, payment, payment_type, water_quality, quality_group, quantity, quantity_group, source, source_type, source_class, waterpoint_type, waterpoint_type_group\n",
        "\n",
        "Features with Null values: \n",
        "* funder, installer, subvillage, public_meeting, scheme_management, scheme_name, permit\n",
        "\n",
        "**Removed features in preprocessing step**\n",
        "\n",
        "* source_type - string smalll number of unique values \n",
        "* source_class - string smalll number of unique values   \n",
        "* management_group - string smalll number of unique values\n",
        "* scheme_management - strings small number of uniques\n",
        "* quantity_group    string smalll number of unique values\n",
        "* quality_group - string smalll number of unique values\"\n",
        "* payment_type - string smalll number of unique values\n",
        "* extraction_type_class - string smalll number of unique values\n",
        "* extraction_type - string smalll number of unique values\n",
        "* waterpoint_type_group  string smalll number of unique values\n",
        "\n",
        "**Removing features in future steps**\n",
        "* recorded_by - only have obe value for all\n",
        "* wpt_name - String 45684 unique values\n",
        "* scheme_name  strings small number of uniques\n",
        "* region_code -  smalll number of nunique values- numerical data\n",
        "* num_private  numerical data- have small number of unique values\n",
        "* Daterecoreded - dates 369 uniques\n",
        "* subvillage - 21426 unique values strings"
      ]
    },
    {
      "cell_type": "markdown",
      "metadata": {
        "id": "U4sISz_ntX5A"
      },
      "source": [
        "## **Data Preprocessing**"
      ]
    },
    {
      "cell_type": "markdown",
      "metadata": {
        "id": "1Cfz553E2rmN"
      },
      "source": [
        "#### Clean Data"
      ]
    },
    {
      "cell_type": "code",
      "metadata": {
        "id": "-LPjrxF0hF3h"
      },
      "source": [
        "def fix_typo(df):\n",
        "    df['installer'].replace(to_replace = ('ADRA /Government') , value ='ADRA/Government' , inplace=True)\n",
        "    df['installer'].replace(to_replace = ('British colonial government') , value ='British government' , inplace=True)\n",
        "    df['installer'].replace(to_replace = ('Central Government','Tanzania Government', 'central government','Cental Government', 'Cebtral Government', 'Tanzanian Government','Tanzania government', 'Centra Government', 'CENTRAL GOVERNMENT', 'TANZANIAN GOVERNMENT','Central govt', 'Centr', 'Centra govt') , value ='Central government' , inplace=True)\n",
        "    df['installer'].replace(to_replace =('Commu','Communit','commu','COMMU', 'COMMUNITY'), value ='Community' , inplace=True)\n",
        "    df['installer'].replace(to_replace = ('Concern /government') , value ='Concern/Government' , inplace=True)\n",
        "    df['installer'].replace(to_replace = ('Colonial Government') , value ='Colonial government' , inplace=True)\n",
        "    df['installer'].replace(to_replace = ('COUN', 'District COUNCIL', 'DISTRICT COUNCIL','District Counci', 'District Council','Council','Counc','District  Council','Distri'), value ='District council' , inplace=True)\n",
        "    df['installer'].replace(to_replace = ('District Water Department', 'District water depar','Distric Water Department'), value ='District water department' , inplace=True)\n",
        "    df['installer'].replace(to_replace = 'DANID', value ='DANIDA' , inplace=True)\n",
        "    df['installer'].replace(to_replace = ('FinW','Fini water','FINI WATER'), value ='Fini Water' , inplace=True)\n",
        "    df['installer'].replace(to_replace = ('GOVERNMENT', 'GOVER', 'GOVERNME', 'GOVERM','GOVERN','Gover','Gove','Governme','Governmen' ) ,value ='Government' , inplace=True)\n",
        "    df['installer'].replace(to_replace = ('Government of Misri') , value ='Misri Government' , inplace=True)\n",
        "    df['installer'].replace(to_replace = ('Government and Community') , value ='Government /Community' , inplace=True)\n",
        "    df['installer'].replace(to_replace = ('Government /TCRS','Government/TCRS') , value ='TCRS /Government' , inplace=True)    \n",
        "    df['installer'].replace(to_replace = 'Hesawa', value ='HESAWA' , inplace=True)\n",
        "    df['installer'].replace(to_replace = ('Italy government') , value ='Italian government' , inplace=True)\n",
        "    df['installer'].replace(to_replace = 'JAICA', value ='Jaica' , inplace=True)\n",
        "    df['installer'].replace(to_replace = ('RC CHURCH', 'RC Churc', 'RC','RC Ch','RC C', 'RC CH','RC church', 'RC CATHORIC',) , value ='RC Church' , inplace=True)\n",
        "    df['installer'].replace(to_replace = ('World vision', 'World Division','World Vision'), value ='world vision' , inplace=True)\n",
        "    df['installer'].replace(to_replace = ('Unisef','UNICEF'),value ='Unicef' , inplace=True)\n",
        "    df['installer'].replace(to_replace = ('villigers', 'villager', 'Villagers', 'Villa', 'Village', 'Villi', 'Village Council','Village Counil', 'Villages', 'Vill', 'Village community', 'Villaers', 'Village Community', 'Villag','Villege Council', 'Village council', 'Village  Council','Villagerd', 'Villager', 'Village Technician', 'Village Office','Village community members'), value ='villagers' , inplace=True)\n",
        "    df['installer'].replace(to_replace = ('Village Government') , value ='Village government' , inplace=True)\n",
        "    df['installer'].replace(to_replace = ('Cetral government /RC') , value ='RC church/Central Gover' , inplace=True)\n",
        "    return df"
      ],
      "execution_count": 44,
      "outputs": []
    },
    {
      "cell_type": "code",
      "metadata": {
        "id": "IrTBMr5zvTvy"
      },
      "source": [
        "def clean(df):\n",
        "    # Drop duplicate columns\n",
        "    df.drop(columns=['source_class','source_type','management_group','scheme_management','quantity_group','quality_group','payment_type','extraction_type_class','extraction_type', 'waterpoint_type_group'],inplace=True)\n",
        "    df = fix_typo(df)\n",
        "    return df"
      ],
      "execution_count": 45,
      "outputs": []
    },
    {
      "cell_type": "markdown",
      "metadata": {
        "id": "AAh4XKWQ2l_8"
      },
      "source": [
        "#### Encode Data"
      ]
    },
    {
      "cell_type": "code",
      "metadata": {
        "id": "ZynXhSs312Bk"
      },
      "source": [
        "# The numeric features : amount_tsh, gps_height, longitude, latitude, num_private, population - These numeric features are already encoded correctly\n",
        "\n",
        "# The categorical features\n",
        "features_nom = [\"date_recorded\", \"funder\", \"installer\", \"wpt_name\", \"basin\", \"subvillage\", \"region\", \"region_code\", \"district_code\", \"lga\", \"ward\", \"public_meeting\", \n",
        "                \"recorded_by\", \"scheme_name\", \"permit\", \"construction_year\", \"extraction_type_group\", \"management\", \"payment\", \"water_quality\", \"quantity\", \"source\", \n",
        "                \"waterpoint_type\"]\n",
        "\n",
        "# Add a None level for missing values\n",
        "ordered_levels = {             \n",
        "    # list down un ordered categorical coloumn and assign categories\n",
        "}\n",
        "\n",
        "def encode(df):   \n",
        "    # Nominal categories\n",
        "    for name in features_nom:\n",
        "        df[name] = df[name].astype(\"category\")\n",
        "        # Add a None category for missing values\n",
        "        if \"None\" not in df[name].cat.categories and df[name].isnull().sum() !=0:\n",
        "            df[name].cat.add_categories(\"None\", inplace=True)\n",
        "    # Ordinal categories\n",
        "    for name, levels in ordered_levels.items():\n",
        "        df[name] = df[name].astype(CategoricalDtype(levels, ordered=True))\n",
        "    return df"
      ],
      "execution_count": 46,
      "outputs": []
    },
    {
      "cell_type": "markdown",
      "metadata": {
        "id": "GIlhDgHGsrdG"
      },
      "source": [
        "#### Impute Missing Values"
      ]
    },
    {
      "cell_type": "code",
      "metadata": {
        "id": "CXvl5gXgsyA0"
      },
      "source": [
        "def impute(df):\n",
        "    for name in df.select_dtypes(\"number\"):\n",
        "        df[name] = df[name].fillna(0)\n",
        "    for name in df.select_dtypes(\"category\"):\n",
        "        if df[name].isnull().sum()!=0:\n",
        "            df[name] = df[name].fillna(\"None\")\n",
        "    return df"
      ],
      "execution_count": 47,
      "outputs": []
    },
    {
      "cell_type": "code",
      "metadata": {
        "id": "juvpd3Wutwrx",
        "colab": {
          "base_uri": "https://localhost:8080/",
          "height": 650
        },
        "outputId": "0e2f37d0-a16a-48f4-b0fa-bb3b50db619e"
      },
      "source": [
        "all_data = clean(all_data) # cleaning dataset\n",
        "display(all_data.info())"
      ],
      "execution_count": 48,
      "outputs": [
        {
          "output_type": "stream",
          "name": "stdout",
          "text": [
            "<class 'pandas.core.frame.DataFrame'>\n",
            "Int64Index: 74250 entries, 69572 to 68707\n",
            "Data columns (total 29 columns):\n",
            " #   Column                 Non-Null Count  Dtype  \n",
            "---  ------                 --------------  -----  \n",
            " 0   amount_tsh             74250 non-null  float64\n",
            " 1   date_recorded          74250 non-null  object \n",
            " 2   funder                 69746 non-null  object \n",
            " 3   gps_height             74250 non-null  int64  \n",
            " 4   installer              69718 non-null  object \n",
            " 5   longitude              74250 non-null  float64\n",
            " 6   latitude               74250 non-null  float64\n",
            " 7   wpt_name               74250 non-null  object \n",
            " 8   num_private            74250 non-null  int64  \n",
            " 9   basin                  74250 non-null  object \n",
            " 10  subvillage             73780 non-null  object \n",
            " 11  region                 74250 non-null  object \n",
            " 12  region_code            74250 non-null  int64  \n",
            " 13  district_code          74250 non-null  int64  \n",
            " 14  lga                    74250 non-null  object \n",
            " 15  ward                   74250 non-null  object \n",
            " 16  population             74250 non-null  int64  \n",
            " 17  public_meeting         70095 non-null  object \n",
            " 18  recorded_by            74250 non-null  object \n",
            " 19  scheme_name            38992 non-null  object \n",
            " 20  permit                 70457 non-null  object \n",
            " 21  construction_year      74250 non-null  int64  \n",
            " 22  extraction_type_group  74250 non-null  object \n",
            " 23  management             74250 non-null  object \n",
            " 24  payment                74250 non-null  object \n",
            " 25  water_quality          74250 non-null  object \n",
            " 26  quantity               74250 non-null  object \n",
            " 27  source                 74250 non-null  object \n",
            " 28  waterpoint_type        74250 non-null  object \n",
            "dtypes: float64(3), int64(6), object(20)\n",
            "memory usage: 17.0+ MB\n"
          ]
        },
        {
          "output_type": "display_data",
          "data": {
            "text/plain": [
              "None"
            ]
          },
          "metadata": {}
        }
      ]
    },
    {
      "cell_type": "code",
      "metadata": {
        "colab": {
          "base_uri": "https://localhost:8080/"
        },
        "id": "CKPsDTpMnGWU",
        "outputId": "1957ab86-ccc9-48c5-c85d-7e4b0d39c880"
      },
      "source": [
        "len(all_data.installer.unique())"
      ],
      "execution_count": 49,
      "outputs": [
        {
          "output_type": "execute_result",
          "data": {
            "text/plain": [
              "2320"
            ]
          },
          "metadata": {},
          "execution_count": 49
        }
      ]
    },
    {
      "cell_type": "code",
      "metadata": {
        "id": "QVVCwgkRryjH",
        "colab": {
          "base_uri": "https://localhost:8080/",
          "height": 650
        },
        "outputId": "082b2849-0580-487f-f0eb-a6252db129f7"
      },
      "source": [
        "all_data = encode(all_data) # encode dataset dtypes\n",
        "display(all_data.info())"
      ],
      "execution_count": 50,
      "outputs": [
        {
          "output_type": "stream",
          "name": "stdout",
          "text": [
            "<class 'pandas.core.frame.DataFrame'>\n",
            "Int64Index: 74250 entries, 69572 to 68707\n",
            "Data columns (total 29 columns):\n",
            " #   Column                 Non-Null Count  Dtype   \n",
            "---  ------                 --------------  -----   \n",
            " 0   amount_tsh             74250 non-null  float64 \n",
            " 1   date_recorded          74250 non-null  category\n",
            " 2   funder                 69746 non-null  category\n",
            " 3   gps_height             74250 non-null  int64   \n",
            " 4   installer              69718 non-null  category\n",
            " 5   longitude              74250 non-null  float64 \n",
            " 6   latitude               74250 non-null  float64 \n",
            " 7   wpt_name               74250 non-null  category\n",
            " 8   num_private            74250 non-null  int64   \n",
            " 9   basin                  74250 non-null  category\n",
            " 10  subvillage             73780 non-null  category\n",
            " 11  region                 74250 non-null  category\n",
            " 12  region_code            74250 non-null  category\n",
            " 13  district_code          74250 non-null  category\n",
            " 14  lga                    74250 non-null  category\n",
            " 15  ward                   74250 non-null  category\n",
            " 16  population             74250 non-null  int64   \n",
            " 17  public_meeting         70095 non-null  category\n",
            " 18  recorded_by            74250 non-null  category\n",
            " 19  scheme_name            38992 non-null  category\n",
            " 20  permit                 70457 non-null  category\n",
            " 21  construction_year      74250 non-null  category\n",
            " 22  extraction_type_group  74250 non-null  category\n",
            " 23  management             74250 non-null  category\n",
            " 24  payment                74250 non-null  category\n",
            " 25  water_quality          74250 non-null  category\n",
            " 26  quantity               74250 non-null  category\n",
            " 27  source                 74250 non-null  category\n",
            " 28  waterpoint_type        74250 non-null  category\n",
            "dtypes: category(23), float64(3), int64(3)\n",
            "memory usage: 9.0 MB\n"
          ]
        },
        {
          "output_type": "display_data",
          "data": {
            "text/plain": [
              "None"
            ]
          },
          "metadata": {}
        }
      ]
    },
    {
      "cell_type": "markdown",
      "metadata": {
        "id": "xS0I70Rm2LSi"
      },
      "source": [
        "Features with null values: funder, installer, subvillage, public_meeting, scheme_management, scheme_name, permit"
      ]
    },
    {
      "cell_type": "code",
      "metadata": {
        "colab": {
          "base_uri": "https://localhost:8080/",
          "height": 667
        },
        "id": "hNo6EuQIvDWT",
        "outputId": "b6b18883-804f-4e10-92c0-5187c1b3e76e"
      },
      "source": [
        "all_data = impute(all_data)\n",
        "print(display(all_data.info()))"
      ],
      "execution_count": 51,
      "outputs": [
        {
          "output_type": "stream",
          "name": "stdout",
          "text": [
            "<class 'pandas.core.frame.DataFrame'>\n",
            "Int64Index: 74250 entries, 69572 to 68707\n",
            "Data columns (total 29 columns):\n",
            " #   Column                 Non-Null Count  Dtype   \n",
            "---  ------                 --------------  -----   \n",
            " 0   amount_tsh             74250 non-null  float64 \n",
            " 1   date_recorded          74250 non-null  category\n",
            " 2   funder                 74250 non-null  category\n",
            " 3   gps_height             74250 non-null  int64   \n",
            " 4   installer              74250 non-null  category\n",
            " 5   longitude              74250 non-null  float64 \n",
            " 6   latitude               74250 non-null  float64 \n",
            " 7   wpt_name               74250 non-null  category\n",
            " 8   num_private            74250 non-null  int64   \n",
            " 9   basin                  74250 non-null  category\n",
            " 10  subvillage             74250 non-null  category\n",
            " 11  region                 74250 non-null  category\n",
            " 12  region_code            74250 non-null  category\n",
            " 13  district_code          74250 non-null  category\n",
            " 14  lga                    74250 non-null  category\n",
            " 15  ward                   74250 non-null  category\n",
            " 16  population             74250 non-null  int64   \n",
            " 17  public_meeting         74250 non-null  category\n",
            " 18  recorded_by            74250 non-null  category\n",
            " 19  scheme_name            74250 non-null  category\n",
            " 20  permit                 74250 non-null  category\n",
            " 21  construction_year      74250 non-null  category\n",
            " 22  extraction_type_group  74250 non-null  category\n",
            " 23  management             74250 non-null  category\n",
            " 24  payment                74250 non-null  category\n",
            " 25  water_quality          74250 non-null  category\n",
            " 26  quantity               74250 non-null  category\n",
            " 27  source                 74250 non-null  category\n",
            " 28  waterpoint_type        74250 non-null  category\n",
            "dtypes: category(23), float64(3), int64(3)\n",
            "memory usage: 9.0 MB\n"
          ]
        },
        {
          "output_type": "display_data",
          "data": {
            "text/plain": [
              "None"
            ]
          },
          "metadata": {}
        },
        {
          "output_type": "stream",
          "name": "stdout",
          "text": [
            "None\n"
          ]
        }
      ]
    },
    {
      "cell_type": "code",
      "metadata": {
        "colab": {
          "base_uri": "https://localhost:8080/"
        },
        "id": "J9Jvzy7bFunC",
        "outputId": "d572c172-9d8d-454d-8bf9-d0b5e94a0def"
      },
      "source": [
        "X_train = all_data.loc[train_data.index, :] # train_data\n",
        "X_test = all_data.loc[test_data.index, :] # test data\n",
        "y_train = train_labels # train labels\n",
        "print(X_train)"
      ],
      "execution_count": 52,
      "outputs": [
        {
          "output_type": "stream",
          "name": "stdout",
          "text": [
            "       amount_tsh  ...              waterpoint_type\n",
            "id                 ...                             \n",
            "69572      6000.0  ...           communal standpipe\n",
            "8776          0.0  ...           communal standpipe\n",
            "34310        25.0  ...  communal standpipe multiple\n",
            "67743         0.0  ...  communal standpipe multiple\n",
            "19728         0.0  ...           communal standpipe\n",
            "...           ...  ...                          ...\n",
            "60739        10.0  ...           communal standpipe\n",
            "27263      4700.0  ...           communal standpipe\n",
            "37057         0.0  ...                    hand pump\n",
            "31282         0.0  ...                    hand pump\n",
            "26348         0.0  ...                    hand pump\n",
            "\n",
            "[59400 rows x 29 columns]\n"
          ]
        }
      ]
    },
    {
      "cell_type": "markdown",
      "metadata": {
        "id": "rbVCijXbHpHE"
      },
      "source": [
        "### **Remove Features With Less Details**"
      ]
    },
    {
      "cell_type": "markdown",
      "metadata": {
        "id": "7HIqq8i8NLny"
      },
      "source": [
        "##### **wpt_name:**"
      ]
    },
    {
      "cell_type": "code",
      "metadata": {
        "colab": {
          "base_uri": "https://localhost:8080/"
        },
        "id": "m6TY2xlR_m-4",
        "outputId": "2b9b3b59-f2ad-4942-8f01-34e11658f64d"
      },
      "source": [
        "X_train.wpt_name.value_counts().head(100)"
      ],
      "execution_count": 53,
      "outputs": [
        {
          "output_type": "execute_result",
          "data": {
            "text/plain": [
              "none           3563\n",
              "Shuleni        1748\n",
              "Zahanati        830\n",
              "Msikitini       535\n",
              "Kanisani        323\n",
              "               ... \n",
              "Ringini          22\n",
              "Vumilia          21\n",
              "Kwa Richard      21\n",
              "Jitegemee        21\n",
              "Galani           21\n",
              "Name: wpt_name, Length: 100, dtype: int64"
            ]
          },
          "metadata": {},
          "execution_count": 53
        }
      ]
    },
    {
      "cell_type": "markdown",
      "metadata": {
        "id": "buAaaZkJRNcq"
      },
      "source": [
        "wpt_name have 3563 None values, and we can see most of the labels in this feature have very low value count. So we can remove this feature."
      ]
    },
    {
      "cell_type": "markdown",
      "metadata": {
        "id": "snBJM41NNrZV"
      },
      "source": [
        "##### **scheme_name**"
      ]
    },
    {
      "cell_type": "code",
      "metadata": {
        "colab": {
          "base_uri": "https://localhost:8080/"
        },
        "id": "M9ENTzXvKiyi",
        "outputId": "3deca38e-e56d-4c1a-8a36-b18fd8ee539b"
      },
      "source": [
        "X_train.scheme_name.value_counts().head(100)"
      ],
      "execution_count": 54,
      "outputs": [
        {
          "output_type": "execute_result",
          "data": {
            "text/plain": [
              "None                         28810\n",
              "K                              682\n",
              "Borehole                       546\n",
              "Chalinze wate                  405\n",
              "M                              400\n",
              "                             ...  \n",
              "Manyoni water supply            48\n",
              "Mwaya Mn                        47\n",
              "Kazilankanda Water Supply       47\n",
              "Nyachenda                       47\n",
              "Gyewasu                         47\n",
              "Name: scheme_name, Length: 100, dtype: int64"
            ]
          },
          "metadata": {},
          "execution_count": 54
        }
      ]
    },
    {
      "cell_type": "markdown",
      "metadata": {
        "id": "BhJhquFWRiSb"
      },
      "source": [
        "scheme_name have 28810 None values and we can see most of the labels have very low value count. So we can remove this feature."
      ]
    },
    {
      "cell_type": "markdown",
      "metadata": {
        "id": "WsFQvRuYN1vV"
      },
      "source": [
        "##### **region_code vs region**"
      ]
    },
    {
      "cell_type": "code",
      "metadata": {
        "colab": {
          "base_uri": "https://localhost:8080/"
        },
        "id": "ymTbL6zeTfTm",
        "outputId": "1e919ea5-9a97-4b47-a5a3-a4994f5ac674"
      },
      "source": [
        "X_train.region_code.value_counts()"
      ],
      "execution_count": 55,
      "outputs": [
        {
          "output_type": "execute_result",
          "data": {
            "text/plain": [
              "11    5300\n",
              "17    5011\n",
              "12    4639\n",
              "3     4379\n",
              "5     4040\n",
              "18    3324\n",
              "19    3047\n",
              "2     3024\n",
              "16    2816\n",
              "10    2640\n",
              "4     2513\n",
              "1     2201\n",
              "13    2093\n",
              "14    1979\n",
              "20    1969\n",
              "15    1808\n",
              "6     1609\n",
              "21    1583\n",
              "80    1238\n",
              "60    1025\n",
              "90     917\n",
              "7      805\n",
              "99     423\n",
              "9      390\n",
              "24     326\n",
              "8      300\n",
              "40       1\n",
              "Name: region_code, dtype: int64"
            ]
          },
          "metadata": {},
          "execution_count": 55
        }
      ]
    },
    {
      "cell_type": "code",
      "metadata": {
        "colab": {
          "base_uri": "https://localhost:8080/"
        },
        "id": "DwyXlGoRT0kZ",
        "outputId": "af6ab66e-04f8-4ab9-a540-669651882640"
      },
      "source": [
        "X_train.region.value_counts()"
      ],
      "execution_count": 56,
      "outputs": [
        {
          "output_type": "execute_result",
          "data": {
            "text/plain": [
              "Iringa           5294\n",
              "Shinyanga        4982\n",
              "Mbeya            4639\n",
              "Kilimanjaro      4379\n",
              "Morogoro         4006\n",
              "Arusha           3350\n",
              "Kagera           3316\n",
              "Mwanza           3102\n",
              "Kigoma           2816\n",
              "Ruvuma           2640\n",
              "Pwani            2635\n",
              "Tanga            2547\n",
              "Dodoma           2201\n",
              "Singida          2093\n",
              "Mara             1969\n",
              "Tabora           1959\n",
              "Rukwa            1808\n",
              "Mtwara           1730\n",
              "Manyara          1583\n",
              "Lindi            1546\n",
              "Dar es Salaam     805\n",
              "Name: region, dtype: int64"
            ]
          },
          "metadata": {},
          "execution_count": 56
        }
      ]
    },
    {
      "cell_type": "markdown",
      "metadata": {
        "id": "Q7wa9aWcTzPw"
      },
      "source": [
        "As the region and region_code have similar information, we can remove one of them."
      ]
    },
    {
      "cell_type": "markdown",
      "metadata": {
        "id": "dcKTrqbKVcsW"
      },
      "source": [
        "##### **amount_tsh:**"
      ]
    },
    {
      "cell_type": "code",
      "metadata": {
        "colab": {
          "base_uri": "https://localhost:8080/"
        },
        "id": "rliSSOCHVhkh",
        "outputId": "048144bf-d1a1-4e53-d552-cc358746a382"
      },
      "source": [
        "X_train.amount_tsh.value_counts()"
      ],
      "execution_count": 57,
      "outputs": [
        {
          "output_type": "execute_result",
          "data": {
            "text/plain": [
              "0.0         41639\n",
              "500.0        3102\n",
              "50.0         2472\n",
              "1000.0       1488\n",
              "20.0         1463\n",
              "            ...  \n",
              "8500.0          1\n",
              "6300.0          1\n",
              "220.0           1\n",
              "138000.0        1\n",
              "12.0            1\n",
              "Name: amount_tsh, Length: 98, dtype: int64"
            ]
          },
          "metadata": {},
          "execution_count": 57
        }
      ]
    },
    {
      "cell_type": "markdown",
      "metadata": {
        "id": "sKrCwiF_Wk6i"
      },
      "source": [
        "Most of the data 41639/59400 (70%) is 0.0. So we can remove this feature for now."
      ]
    },
    {
      "cell_type": "markdown",
      "metadata": {
        "id": "gOwmENiXZuze"
      },
      "source": [
        "##### **date_recorded:**"
      ]
    },
    {
      "cell_type": "code",
      "metadata": {
        "colab": {
          "base_uri": "https://localhost:8080/"
        },
        "id": "jrCb-mq3Z1Y9",
        "outputId": "5be3723f-59fd-47bd-de6f-d5a77dbec552"
      },
      "source": [
        "X_train['date_recorded'].value_counts()"
      ],
      "execution_count": 58,
      "outputs": [
        {
          "output_type": "execute_result",
          "data": {
            "text/plain": [
              "2011-03-15    572\n",
              "2011-03-17    558\n",
              "2013-02-03    546\n",
              "2011-03-14    520\n",
              "2011-03-16    513\n",
              "             ... \n",
              "2011-09-02      0\n",
              "2011-09-07      0\n",
              "2011-09-10      0\n",
              "2011-09-22      0\n",
              "2001-03-26      0\n",
              "Name: date_recorded, Length: 369, dtype: int64"
            ]
          },
          "metadata": {},
          "execution_count": 58
        }
      ]
    },
    {
      "cell_type": "markdown",
      "metadata": {
        "id": "ZwgxOFgQaHdJ"
      },
      "source": [
        "We can see most of the dates are beetween 2011-2013. So we can remove this feature as well."
      ]
    },
    {
      "cell_type": "markdown",
      "metadata": {
        "id": "dN1gmbJFelBj"
      },
      "source": [
        "##### **num_private:**"
      ]
    },
    {
      "cell_type": "code",
      "metadata": {
        "colab": {
          "base_uri": "https://localhost:8080/"
        },
        "id": "E7lmYO1_eoGc",
        "outputId": "15bf03ba-2eff-413f-8bd2-ee532b846b9d"
      },
      "source": [
        "X_train.num_private.value_counts().head(100)"
      ],
      "execution_count": 59,
      "outputs": [
        {
          "output_type": "execute_result",
          "data": {
            "text/plain": [
              "0      58643\n",
              "6         81\n",
              "1         73\n",
              "5         46\n",
              "8         46\n",
              "       ...  \n",
              "180        1\n",
              "213        1\n",
              "23         1\n",
              "55         1\n",
              "94         1\n",
              "Name: num_private, Length: 65, dtype: int64"
            ]
          },
          "metadata": {},
          "execution_count": 59
        }
      ]
    },
    {
      "cell_type": "markdown",
      "metadata": {
        "id": "6lkzYuGLezgm"
      },
      "source": [
        "Most of the data 58643/59400 (99%) is 0. So we can remove this feature for now."
      ]
    },
    {
      "cell_type": "markdown",
      "metadata": {
        "id": "A6p6Ctv0UdM1"
      },
      "source": [
        "##### **subvillage:**"
      ]
    },
    {
      "cell_type": "code",
      "metadata": {
        "colab": {
          "base_uri": "https://localhost:8080/"
        },
        "id": "tU53fmdYUeYL",
        "outputId": "3e60d1d3-91d9-44f4-f4ca-aab07a1b7e17"
      },
      "source": [
        "X_train.subvillage.value_counts().head(100)"
      ],
      "execution_count": 60,
      "outputs": [
        {
          "output_type": "execute_result",
          "data": {
            "text/plain": [
              "Madukani      508\n",
              "Shuleni       506\n",
              "Majengo       502\n",
              "Kati          373\n",
              "None          371\n",
              "             ... \n",
              "Tankini        35\n",
              "Mwangaza       35\n",
              "Njia Panda     35\n",
              "Isanga         34\n",
              "Kiwanjani      34\n",
              "Name: subvillage, Length: 100, dtype: int64"
            ]
          },
          "metadata": {},
          "execution_count": 60
        }
      ]
    },
    {
      "cell_type": "markdown",
      "metadata": {
        "id": "BQ9HyCkaUoT4"
      },
      "source": [
        "Most of the labels in `subvillage` have very low value count for most of the label. ALso we can remove this feature."
      ]
    },
    {
      "cell_type": "markdown",
      "metadata": {
        "id": "1RHzsExZg_c6"
      },
      "source": [
        "##### **recorded_by:**"
      ]
    },
    {
      "cell_type": "code",
      "metadata": {
        "colab": {
          "base_uri": "https://localhost:8080/"
        },
        "id": "An6ZqxyghAgW",
        "outputId": "86eddbe8-e383-441f-a2ab-13bd00dbc11d"
      },
      "source": [
        "X_train.recorded_by.value_counts()"
      ],
      "execution_count": 61,
      "outputs": [
        {
          "output_type": "execute_result",
          "data": {
            "text/plain": [
              "GeoData Consultants Ltd    59400\n",
              "Name: recorded_by, dtype: int64"
            ]
          },
          "metadata": {},
          "execution_count": 61
        }
      ]
    },
    {
      "cell_type": "markdown",
      "metadata": {
        "id": "jqCvX5rjhYJM"
      },
      "source": [
        "Since this feature has only one value we cannot get any idea from this feature about the functionality. So we can drop this feature."
      ]
    },
    {
      "cell_type": "markdown",
      "metadata": {
        "id": "slRmo-2HkOvc"
      },
      "source": [
        "##### **Drop identified features**"
      ]
    },
    {
      "cell_type": "code",
      "metadata": {
        "id": "P70lIS5fhnY_"
      },
      "source": [
        "def drop_fearure_less_columns(df):\n",
        "    df.drop(columns=['wpt_name', 'scheme_name', 'region_code', 'amount_tsh', 'date_recorded', 'num_private', 'subvillage', 'recorded_by'],inplace=True)\n",
        "    return df\n",
        "\n",
        "X_train = drop_fearure_less_columns(X_train)\n",
        "X_test = drop_fearure_less_columns(X_test)"
      ],
      "execution_count": 62,
      "outputs": []
    },
    {
      "cell_type": "code",
      "metadata": {
        "colab": {
          "base_uri": "https://localhost:8080/"
        },
        "id": "-mEDB-F-lK-S",
        "outputId": "24e6b85c-4968-4c2d-dcdb-4912775adfd4"
      },
      "source": [
        "X_test.columns"
      ],
      "execution_count": 63,
      "outputs": [
        {
          "output_type": "execute_result",
          "data": {
            "text/plain": [
              "Index(['funder', 'gps_height', 'installer', 'longitude', 'latitude', 'basin',\n",
              "       'region', 'district_code', 'lga', 'ward', 'population',\n",
              "       'public_meeting', 'permit', 'construction_year',\n",
              "       'extraction_type_group', 'management', 'payment', 'water_quality',\n",
              "       'quantity', 'source', 'waterpoint_type'],\n",
              "      dtype='object')"
            ]
          },
          "metadata": {},
          "execution_count": 63
        }
      ]
    },
    {
      "cell_type": "markdown",
      "metadata": {
        "id": "dAWoXOnxRsKs"
      },
      "source": [
        "### **Reduce Features' Label Count**"
      ]
    },
    {
      "cell_type": "markdown",
      "metadata": {
        "id": "E4n_bWTVb3Or"
      },
      "source": [
        "Since there are very large number of categories in `installer` feature we will keep only the categories have more than 400 values and rename all other categories to `other` category."
      ]
    },
    {
      "cell_type": "code",
      "metadata": {
        "colab": {
          "base_uri": "https://localhost:8080/"
        },
        "id": "aE6UqhhuSt4e",
        "outputId": "ad4518e9-82ab-4692-8778-e27f90b1ffde"
      },
      "source": [
        "X_train['installer'].replace(to_replace = '0', value ='None' , inplace=True)\n",
        "X_test['installer'].replace(to_replace = '0', value ='None' , inplace=True)\n",
        "X_train['installer'].replace(to_replace = 'Unknown', value ='None' , inplace=True)\n",
        "X_test['installer'].replace(to_replace = 'Unknown', value ='None' , inplace=True)\n",
        "X_train.installer.value_counts()"
      ],
      "execution_count": 64,
      "outputs": [
        {
          "output_type": "execute_result",
          "data": {
            "text/plain": [
              "DWE                     17402\n",
              "None                     4435\n",
              "Government               2660\n",
              "Community                1674\n",
              "DANIDA                   1602\n",
              "                        ...  \n",
              "Mgolole                     0\n",
              "DARDI                       0\n",
              "Waingereza                  0\n",
              "DAWAS                       0\n",
              "Makonde water Supply        0\n",
              "Name: installer, Length: 2318, dtype: int64"
            ]
          },
          "metadata": {},
          "execution_count": 64
        }
      ]
    },
    {
      "cell_type": "code",
      "metadata": {
        "colab": {
          "base_uri": "https://localhost:8080/"
        },
        "id": "T6VFwABkR81Q",
        "outputId": "8f9434f1-fc01-49d8-f37e-98e7d1a1d236"
      },
      "source": [
        "columns_to_keep = ['DWE','None','Government','Community','DANIDA','HESAWA','RWE','District council', 'Central government',\n",
        "         'KKKT','TCRS', 'world vision', 'CES', 'Fini Water', 'RC Church','villagers','LGA']\n",
        "\n",
        "X_train.loc[~X_train[\"installer\"].isin(columns_to_keep), \"installer\"] = \"Others\"\n",
        "X_test.loc[~X_test[\"installer\"].isin(columns_to_keep), \"installer\"] = \"Others\"\n",
        "X_train['installer'] = X_train['installer'].cat.remove_unused_categories()\n",
        "X_test['installer'] = X_test['installer'].cat.remove_unused_categories()\n",
        "X_train.installer.value_counts()"
      ],
      "execution_count": 65,
      "outputs": [
        {
          "output_type": "execute_result",
          "data": {
            "text/plain": [
              "Others                21983\n",
              "DWE                   17402\n",
              "None                   4435\n",
              "Government             2660\n",
              "Community              1674\n",
              "DANIDA                 1602\n",
              "HESAWA                 1379\n",
              "RWE                    1206\n",
              "District council       1179\n",
              "Central government     1114\n",
              "KKKT                    898\n",
              "TCRS                    707\n",
              "world vision            681\n",
              "CES                     610\n",
              "Fini Water              593\n",
              "RC Church               461\n",
              "LGA                     408\n",
              "villagers               408\n",
              "Name: installer, dtype: int64"
            ]
          },
          "metadata": {},
          "execution_count": 65
        }
      ]
    },
    {
      "cell_type": "markdown",
      "metadata": {
        "id": "oQuhGd33eZOj"
      },
      "source": [
        "Since there are very large number of categories in `funder` feature we will keep only the first twenty categories and rename all other categories to `other` category."
      ]
    },
    {
      "cell_type": "code",
      "metadata": {
        "colab": {
          "base_uri": "https://localhost:8080/"
        },
        "id": "5PpAdWEsceKX",
        "outputId": "94f8b5e1-08a8-4f2f-fb45-86677244d506"
      },
      "source": [
        "X_train['funder'].replace(to_replace = '0', value ='None' , inplace=True)\n",
        "X_test['funder'].replace(to_replace = '0', value ='None' , inplace=True)\n",
        "X_train['funder'].replace(to_replace = 'Unknown', value ='None' , inplace=True)\n",
        "X_test['funder'].replace(to_replace = 'Unknown', value ='None' , inplace=True)\n",
        "X_train.funder.value_counts()[:20]"
      ],
      "execution_count": 66,
      "outputs": [
        {
          "output_type": "execute_result",
          "data": {
            "text/plain": [
              "Government Of Tanzania    9084\n",
              "None                      4418\n",
              "Danida                    3114\n",
              "Hesawa                    2202\n",
              "Rwssp                     1374\n",
              "World Bank                1349\n",
              "Kkkt                      1287\n",
              "World Vision              1246\n",
              "Unicef                    1057\n",
              "Tasaf                      877\n",
              "District Council           843\n",
              "Dhv                        829\n",
              "Private Individual         826\n",
              "Dwsp                       811\n",
              "Norad                      765\n",
              "Germany Republi            610\n",
              "Tcrs                       602\n",
              "Ministry Of Water          590\n",
              "Water                      583\n",
              "Dwe                        484\n",
              "Name: funder, dtype: int64"
            ]
          },
          "metadata": {},
          "execution_count": 66
        }
      ]
    },
    {
      "cell_type": "code",
      "metadata": {
        "colab": {
          "base_uri": "https://localhost:8080/"
        },
        "id": "gWFQBOtGdA-C",
        "outputId": "6f75d24c-1420-4a65-e497-3a1d00c6eabf"
      },
      "source": [
        "columns_to_keep = ['Government Of Tanzania','Unknown','Danida','Hesawa','Rwssp','World Bank','Kkkt', 'World Vision',\n",
        "         'Unicef','Tasaf','District Council', 'Dhv', 'Private Individual', 'Dwsp','Norad','Germany Republi',\n",
        "         'Tcrs','Ministry Of Water','Water','Dwe']\n",
        "\n",
        "X_train.loc[~X_train[\"funder\"].isin(columns_to_keep), \"funder\"] = \"Others\"\n",
        "X_test.loc[~X_test[\"funder\"].isin(columns_to_keep), \"funder\"] = \"Others\"\n",
        "X_train['funder'] = X_train['funder'].cat.remove_unused_categories()\n",
        "X_test['funder'] = X_test['funder'].cat.remove_unused_categories()\n",
        "X_train.funder.value_counts()"
      ],
      "execution_count": 67,
      "outputs": [
        {
          "output_type": "execute_result",
          "data": {
            "text/plain": [
              "Others                    30867\n",
              "Government Of Tanzania     9084\n",
              "Danida                     3114\n",
              "Hesawa                     2202\n",
              "Rwssp                      1374\n",
              "World Bank                 1349\n",
              "Kkkt                       1287\n",
              "World Vision               1246\n",
              "Unicef                     1057\n",
              "Tasaf                       877\n",
              "District Council            843\n",
              "Dhv                         829\n",
              "Private Individual          826\n",
              "Dwsp                        811\n",
              "Norad                       765\n",
              "Germany Republi             610\n",
              "Tcrs                        602\n",
              "Ministry Of Water           590\n",
              "Water                       583\n",
              "Dwe                         484\n",
              "Name: funder, dtype: int64"
            ]
          },
          "metadata": {},
          "execution_count": 67
        }
      ]
    },
    {
      "cell_type": "markdown",
      "metadata": {
        "id": "JoFPEmdvevGF"
      },
      "source": [
        "### **Replace Zero Value by Mean**"
      ]
    },
    {
      "cell_type": "code",
      "metadata": {
        "colab": {
          "base_uri": "https://localhost:8080/"
        },
        "id": "k1BoZj8nhYxE",
        "outputId": "0c2a3936-c246-4858-be35-0d683b2c32b5"
      },
      "source": [
        "X_train.latitude.value_counts()"
      ],
      "execution_count": 68,
      "outputs": [
        {
          "output_type": "execute_result",
          "data": {
            "text/plain": [
              "-2.000000e-08    1812\n",
              "-6.985842e+00       2\n",
              "-3.797579e+00       2\n",
              "-6.981884e+00       2\n",
              "-7.104625e+00       2\n",
              "                 ... \n",
              "-5.726001e+00       1\n",
              "-9.646831e+00       1\n",
              "-8.124530e+00       1\n",
              "-2.535985e+00       1\n",
              "-2.598965e+00       1\n",
              "Name: latitude, Length: 57517, dtype: int64"
            ]
          },
          "metadata": {},
          "execution_count": 68
        }
      ]
    },
    {
      "cell_type": "code",
      "metadata": {
        "colab": {
          "base_uri": "https://localhost:8080/"
        },
        "id": "ol3LbKqOe1lG",
        "outputId": "f27d31f3-175b-4df2-f524-367540a5c6f9"
      },
      "source": [
        "X_train.longitude.value_counts()"
      ],
      "execution_count": 69,
      "outputs": [
        {
          "output_type": "execute_result",
          "data": {
            "text/plain": [
              "0.000000     1812\n",
              "37.540901       2\n",
              "33.010510       2\n",
              "39.093484       2\n",
              "32.972719       2\n",
              "             ... \n",
              "37.579803       1\n",
              "33.196490       1\n",
              "34.017119       1\n",
              "33.788326       1\n",
              "30.163579       1\n",
              "Name: longitude, Length: 57516, dtype: int64"
            ]
          },
          "metadata": {},
          "execution_count": 69
        }
      ]
    },
    {
      "cell_type": "markdown",
      "metadata": {
        "id": "xX0G2v5Ne_FG"
      },
      "source": [
        "Since 1812 values are 0s in the dataset and as it seems to be a outlier value with respect to Tanzania longitude values we can think them as Unknown values. So we can replace them by the mean."
      ]
    },
    {
      "cell_type": "code",
      "metadata": {
        "colab": {
          "base_uri": "https://localhost:8080/"
        },
        "id": "2wMYQVfTf7HG",
        "outputId": "fa882363-d56a-4895-ce78-372bd8ab283a"
      },
      "source": [
        "X_train.loc[X_train['longitude']!=0].mean()"
      ],
      "execution_count": 70,
      "outputs": [
        {
          "output_type": "execute_result",
          "data": {
            "text/plain": [
              "gps_height    689.325137\n",
              "longitude      35.149669\n",
              "latitude       -5.885572\n",
              "population    185.570831\n",
              "dtype: float64"
            ]
          },
          "metadata": {},
          "execution_count": 70
        }
      ]
    },
    {
      "cell_type": "code",
      "metadata": {
        "id": "9Dwt0fsCglF6"
      },
      "source": [
        "X_train['longitude'].replace(to_replace = 0 , value = 35.15, inplace=True)\n",
        "X_test['longitude'].replace(to_replace = 0 , value = 35.15, inplace=True)"
      ],
      "execution_count": 71,
      "outputs": []
    },
    {
      "cell_type": "code",
      "metadata": {
        "colab": {
          "base_uri": "https://localhost:8080/"
        },
        "id": "yscAiEhIY5H7",
        "outputId": "f759ba85-8c41-4d1b-be40-e0b33d154531"
      },
      "source": [
        "X_train.population.value_counts()"
      ],
      "execution_count": 72,
      "outputs": [
        {
          "output_type": "execute_result",
          "data": {
            "text/plain": [
              "0       21381\n",
              "1        7025\n",
              "200      1940\n",
              "150      1892\n",
              "250      1681\n",
              "        ...  \n",
              "3241        1\n",
              "1960        1\n",
              "1685        1\n",
              "2248        1\n",
              "1439        1\n",
              "Name: population, Length: 1049, dtype: int64"
            ]
          },
          "metadata": {},
          "execution_count": 72
        }
      ]
    },
    {
      "cell_type": "code",
      "metadata": {
        "colab": {
          "base_uri": "https://localhost:8080/"
        },
        "id": "Qmh3LzPGYaV5",
        "outputId": "33b85c4d-dcf5-4f67-b9c0-bef3f5975471"
      },
      "source": [
        "X_train.loc[X_train['population']!=0].mean()"
      ],
      "execution_count": 73,
      "outputs": [
        {
          "output_type": "execute_result",
          "data": {
            "text/plain": [
              "gps_height    969.889634\n",
              "longitude      36.074387\n",
              "latitude       -6.139781\n",
              "population    281.087167\n",
              "dtype: float64"
            ]
          },
          "metadata": {},
          "execution_count": 73
        }
      ]
    },
    {
      "cell_type": "code",
      "metadata": {
        "id": "bI0VHBpEYhJ5"
      },
      "source": [
        "X_train['population'].replace(to_replace = 0 , value = 281, inplace=True)\n",
        "X_test['population'].replace(to_replace = 0 , value = 281, inplace=True)"
      ],
      "execution_count": 74,
      "outputs": []
    },
    {
      "cell_type": "code",
      "metadata": {
        "colab": {
          "base_uri": "https://localhost:8080/"
        },
        "id": "s5Th5lcZZBl9",
        "outputId": "6eb96fdf-6445-4155-f32e-9ad214383e3e"
      },
      "source": [
        "X_train.population.value_counts()"
      ],
      "execution_count": 75,
      "outputs": [
        {
          "output_type": "execute_result",
          "data": {
            "text/plain": [
              "281     21385\n",
              "1        7025\n",
              "200      1940\n",
              "150      1892\n",
              "250      1681\n",
              "        ...  \n",
              "406         1\n",
              "1960        1\n",
              "1685        1\n",
              "2248        1\n",
              "1439        1\n",
              "Name: population, Length: 1048, dtype: int64"
            ]
          },
          "metadata": {},
          "execution_count": 75
        }
      ]
    },
    {
      "cell_type": "markdown",
      "metadata": {
        "id": "M_SUnUNXi_f4"
      },
      "source": [
        "### **Replace Missing Values by Most Common Value**"
      ]
    },
    {
      "cell_type": "code",
      "metadata": {
        "colab": {
          "base_uri": "https://localhost:8080/"
        },
        "id": "Jwr487t2i6QP",
        "outputId": "4600ef0a-8157-4c39-e4ee-ac3aaeaca22a"
      },
      "source": [
        "X_train['public_meeting'].value_counts()"
      ],
      "execution_count": 76,
      "outputs": [
        {
          "output_type": "execute_result",
          "data": {
            "text/plain": [
              "True     51011\n",
              "False     5055\n",
              "None      3334\n",
              "Name: public_meeting, dtype: int64"
            ]
          },
          "metadata": {},
          "execution_count": 76
        }
      ]
    },
    {
      "cell_type": "code",
      "metadata": {
        "colab": {
          "base_uri": "https://localhost:8080/"
        },
        "id": "eNzYrTUijcFB",
        "outputId": "f16f2028-880c-427c-99d0-35cd7cf99cb1"
      },
      "source": [
        "X_train['public_meeting'].replace(to_replace = \"None\" , value = True, inplace = True)\n",
        "X_test['public_meeting'].replace(to_replace = \"None\" , value = True, inplace = True)\n",
        "X_train['public_meeting'].value_counts()"
      ],
      "execution_count": 77,
      "outputs": [
        {
          "output_type": "execute_result",
          "data": {
            "text/plain": [
              "True     54345\n",
              "False     5055\n",
              "Name: public_meeting, dtype: int64"
            ]
          },
          "metadata": {},
          "execution_count": 77
        }
      ]
    },
    {
      "cell_type": "code",
      "metadata": {
        "colab": {
          "base_uri": "https://localhost:8080/"
        },
        "id": "_GY-yRGij_nF",
        "outputId": "612c6424-c32d-4c9d-d0e6-7a886799683e"
      },
      "source": [
        "X_train['permit'].value_counts()"
      ],
      "execution_count": 78,
      "outputs": [
        {
          "output_type": "execute_result",
          "data": {
            "text/plain": [
              "True     38852\n",
              "False    17492\n",
              "None      3056\n",
              "Name: permit, dtype: int64"
            ]
          },
          "metadata": {},
          "execution_count": 78
        }
      ]
    },
    {
      "cell_type": "code",
      "metadata": {
        "colab": {
          "base_uri": "https://localhost:8080/"
        },
        "id": "G4DYEyxVkCuL",
        "outputId": "20b5a46c-fe1f-4565-f933-2f078a88bc75"
      },
      "source": [
        "X_train['permit'].replace(to_replace = \"None\" , value = True, inplace = True)\n",
        "X_test['permit'].replace(to_replace = \"None\" , value = True, inplace = True)\n",
        "X_train['permit'].value_counts()"
      ],
      "execution_count": 79,
      "outputs": [
        {
          "output_type": "execute_result",
          "data": {
            "text/plain": [
              "True     41908\n",
              "False    17492\n",
              "Name: permit, dtype: int64"
            ]
          },
          "metadata": {},
          "execution_count": 79
        }
      ]
    },
    {
      "cell_type": "markdown",
      "metadata": {
        "id": "JbANzEvdnH54"
      },
      "source": [
        "### **Converting Targets to Numerical Values**"
      ]
    },
    {
      "cell_type": "code",
      "metadata": {
        "id": "DK4VZT8-nTYr"
      },
      "source": [
        "target_status_group = {'functional': 0,\n",
        "                       'functional needs repair': 1,\n",
        "                       'non functional': 2\n",
        "} \n",
        "y_train['status_group'] = y_train['status_group'].replace(target_status_group)"
      ],
      "execution_count": 80,
      "outputs": []
    },
    {
      "cell_type": "code",
      "metadata": {
        "id": "NHAPl6BBnfp4",
        "colab": {
          "base_uri": "https://localhost:8080/",
          "height": 235
        },
        "outputId": "ba9888ab-a8be-42f4-e0b4-831bc78e7bef"
      },
      "source": [
        "y_train.head(5)"
      ],
      "execution_count": 81,
      "outputs": [
        {
          "output_type": "execute_result",
          "data": {
            "text/html": [
              "<div>\n",
              "<style scoped>\n",
              "    .dataframe tbody tr th:only-of-type {\n",
              "        vertical-align: middle;\n",
              "    }\n",
              "\n",
              "    .dataframe tbody tr th {\n",
              "        vertical-align: top;\n",
              "    }\n",
              "\n",
              "    .dataframe thead th {\n",
              "        text-align: right;\n",
              "    }\n",
              "</style>\n",
              "<table border=\"1\" class=\"dataframe\">\n",
              "  <thead>\n",
              "    <tr style=\"text-align: right;\">\n",
              "      <th></th>\n",
              "      <th>status_group</th>\n",
              "    </tr>\n",
              "    <tr>\n",
              "      <th>id</th>\n",
              "      <th></th>\n",
              "    </tr>\n",
              "  </thead>\n",
              "  <tbody>\n",
              "    <tr>\n",
              "      <th>69572</th>\n",
              "      <td>0</td>\n",
              "    </tr>\n",
              "    <tr>\n",
              "      <th>8776</th>\n",
              "      <td>0</td>\n",
              "    </tr>\n",
              "    <tr>\n",
              "      <th>34310</th>\n",
              "      <td>0</td>\n",
              "    </tr>\n",
              "    <tr>\n",
              "      <th>67743</th>\n",
              "      <td>2</td>\n",
              "    </tr>\n",
              "    <tr>\n",
              "      <th>19728</th>\n",
              "      <td>0</td>\n",
              "    </tr>\n",
              "  </tbody>\n",
              "</table>\n",
              "</div>"
            ],
            "text/plain": [
              "       status_group\n",
              "id                 \n",
              "69572             0\n",
              "8776              0\n",
              "34310             0\n",
              "67743             2\n",
              "19728             0"
            ]
          },
          "metadata": {},
          "execution_count": 81
        }
      ]
    },
    {
      "cell_type": "markdown",
      "metadata": {
        "id": "qWS4Cql6ZtGd"
      },
      "source": [
        "## **Feature Engineering**"
      ]
    },
    {
      "cell_type": "markdown",
      "metadata": {
        "id": "LK7si3ul8t9W"
      },
      "source": [
        "#### **Check Mutual Information**"
      ]
    },
    {
      "cell_type": "code",
      "metadata": {
        "id": "gSjp5RzvZxIa"
      },
      "source": [
        "def make_mi_scores(X, y, discrete_features='auto'):\n",
        "    X = X.copy()\n",
        "    for colname in X.select_dtypes([\"object\", \"category\"]):\n",
        "        X[colname], _ = X[colname].factorize()\n",
        "    # All discrete features should now have integer dtypes\n",
        "    # discrete_features = [pd.api.types.is_integer_dtype(t) for t in X.dtypes]\n",
        "    mi_scores = mutual_info_classif(X, y, discrete_features=discrete_features, random_state=0)\n",
        "    mi_scores = pd.Series(mi_scores, name=\"MI Scores\", index=X.columns)\n",
        "    mi_scores = mi_scores.sort_values(ascending=False)\n",
        "    return mi_scores\n",
        "\n",
        "def plot_mi_scores(scores):\n",
        "    scores = scores.sort_values(ascending=True)\n",
        "    width = np.arange(len(scores))\n",
        "    ticks = list(scores.index)\n",
        "    plt.figure(dpi=100, figsize=(8, 4))\n",
        "    plt.barh(width, scores)\n",
        "    plt.yticks(width, ticks)\n",
        "    plt.title(\"Mutual Information Scores\")"
      ],
      "execution_count": 82,
      "outputs": []
    },
    {
      "cell_type": "code",
      "metadata": {
        "colab": {
          "base_uri": "https://localhost:8080/"
        },
        "id": "fpfAunfi9LUs",
        "outputId": "586f753b-16aa-4991-d71d-7c0c12c5c920"
      },
      "source": [
        "mi_scores = make_mi_scores(X_train.copy(), y_train.copy())\n",
        "print (\"Mi Scores:\\n\", mi_scores)"
      ],
      "execution_count": 83,
      "outputs": [
        {
          "output_type": "stream",
          "name": "stderr",
          "text": [
            "/usr/local/lib/python3.7/dist-packages/sklearn/utils/validation.py:760: DataConversionWarning: A column-vector y was passed when a 1d array was expected. Please change the shape of y to (n_samples, ), for example using ravel().\n",
            "  y = column_or_1d(y, warn=True)\n"
          ]
        },
        {
          "output_type": "stream",
          "name": "stdout",
          "text": [
            "Mi Scores:\n",
            " ward                     0.180663\n",
            "quantity                 0.107691\n",
            "lga                      0.088305\n",
            "longitude                0.066381\n",
            "waterpoint_type          0.066140\n",
            "extraction_type_group    0.061365\n",
            "latitude                 0.060861\n",
            "region                   0.042456\n",
            "construction_year        0.034043\n",
            "payment                  0.032248\n",
            "funder                   0.029547\n",
            "installer                0.029194\n",
            "source                   0.025937\n",
            "population               0.021359\n",
            "water_quality            0.019420\n",
            "basin                    0.019118\n",
            "management               0.017706\n",
            "gps_height               0.016582\n",
            "district_code            0.015665\n",
            "permit                   0.005748\n",
            "public_meeting           0.000000\n",
            "Name: MI Scores, dtype: float64\n"
          ]
        }
      ]
    },
    {
      "cell_type": "code",
      "metadata": {
        "colab": {
          "base_uri": "https://localhost:8080/",
          "height": 385
        },
        "id": "9wt7kcpIIVSb",
        "outputId": "52cfeb3a-09db-47de-b9d1-6f9fdc4932d1"
      },
      "source": [
        "plot_mi_scores(mi_scores.head(20))"
      ],
      "execution_count": 84,
      "outputs": [
        {
          "output_type": "display_data",
          "data": {
            "image/png": "[encoded data removed]",
            "text/plain": [
              "<Figure size 800x400 with 1 Axes>"
            ]
          },
          "metadata": {
            "needs_background": "light"
          }
        }
      ]
    },
    {
      "cell_type": "markdown",
      "metadata": {
        "id": "sUliLjgFBNwd"
      },
      "source": [
        "From the mutual information, `ward`, `quantity`, `funder` seems to have a strong relationship with the target (`status_group`) while features like `discrete_code`, `permit` have a weak relationship. However, we can't directly remove any feature just looking at the mutual information. "
      ]
    },
    {
      "cell_type": "markdown",
      "metadata": {
        "id": "Q0duLdN4l0wh"
      },
      "source": [
        "#### **Binning**"
      ]
    },
    {
      "cell_type": "code",
      "metadata": {
        "id": "do9F-P7El0CN",
        "colab": {
          "base_uri": "https://localhost:8080/"
        },
        "outputId": "6cfda75a-f315-4b6c-a190-5684640f1592"
      },
      "source": [
        "def year_binning(df):\n",
        "  df['construction_year'].replace(to_replace = (1960,1961,1962,1963,1964,1965,1966,1967,1968,1969), value ='60' , inplace=True)\n",
        "  df['construction_year'].replace(to_replace = (1970,1971,1972,1973,1974,1975,1976,1977,1978,1979), value ='70s' , inplace=True)\n",
        "  df['construction_year'].replace(to_replace = (1980,1981,1982,1983,1984,1985,1986,1987,1988,1989), value ='80s' , inplace=True)\n",
        "  df['construction_year'].replace(to_replace = (1990,1991,1992,1993,1994,1995,1996,1997,1998,1999), value ='90s' , inplace=True)\n",
        "  df['construction_year'].replace(to_replace = (2000,2001,2002,2003,2004,2005,2006,2007,2008,2009), value ='00s' , inplace=True)\n",
        "  df['construction_year'].replace(to_replace = (2010,2011,2012,2013), value ='10s' , inplace=True)\n",
        "  return df\n",
        "X_train = year_binning(X_train)\n",
        "X_test = year_binning(X_test)\n",
        "X_train.construction_year.values"
      ],
      "execution_count": 85,
      "outputs": [
        {
          "output_type": "execute_result",
          "data": {
            "text/plain": [
              "['90s', '10s', '00s', '80s', 0, ..., '90s', '90s', 0, 0, '00s']\n",
              "Length: 59400\n",
              "Categories (7, object): [0, '60', '70s', '80s', '90s', '00s', '10s']"
            ]
          },
          "metadata": {},
          "execution_count": 85
        }
      ]
    },
    {
      "cell_type": "code",
      "metadata": {
        "id": "1iNoQAVu5WSP"
      },
      "source": [
        "# # plt.figure(1, figsize=(100,4))\n",
        "# plt.figure(1, figsize=(100,20))\n",
        "# train_data.loc[train_data['gps_height']!=0].gps_height.value_counts().plot(kind='bar')"
      ],
      "execution_count": 86,
      "outputs": []
    },
    {
      "cell_type": "code",
      "metadata": {
        "id": "v8F8vHyTJEoy"
      },
      "source": [
        "# X_train.gps_height.value_counts().head(200)"
      ],
      "execution_count": 87,
      "outputs": []
    },
    {
      "cell_type": "code",
      "metadata": {
        "id": "1yRbdmwJ5CI1"
      },
      "source": [
        "# def population_binning(df):\n",
        "#     X_new = df.copy()\n",
        "#     cut_list = [0,1, 40,200,280,300,400, 1000,9000,31000]\n",
        "#     X_new['gps_height'] = pd.cut(X_new['gps_height'], cut_list, labels=False)\n",
        "#     X_new[\"gps_height\"] = X_new[\"gps_height\"].astype(\"category\")\n",
        "#     return X_new\n",
        "# X_new = population_binning(X_train)\n",
        "# X_new.head(5)"
      ],
      "execution_count": 88,
      "outputs": []
    },
    {
      "cell_type": "code",
      "metadata": {
        "id": "4RcDQ9ir5fkE"
      },
      "source": [
        "# Xy = pd.merge(y_train, X_new, how = 'inner', left_index = True, right_index=True)\n",
        "# plt.figure(1, figsize=(20,4))\n",
        "# sns.countplot(x='population', hue=\"status_group\", data=Xy)"
      ],
      "execution_count": 89,
      "outputs": []
    },
    {
      "cell_type": "markdown",
      "metadata": {
        "id": "wHWWvWwfs4Qp"
      },
      "source": [
        "#### **Clustering**"
      ]
    },
    {
      "cell_type": "code",
      "metadata": {
        "id": "Ja8iyMyKPWpr"
      },
      "source": [
        "def cluster_labels(df, features, n_clusters=20):\n",
        "    X = df.copy()\n",
        "    \n",
        "    # Standardize\n",
        "    X_scaled = X.loc[:, features]\n",
        "    X_scaled = (X_scaled - X_scaled.mean(axis=0)) / X_scaled.std(axis=0)\n",
        "    \n",
        "    #Fit the KMeans model to X_scaled and create the cluster labels\n",
        "    kmeans = KMeans(n_clusters=n_clusters, n_init=50, random_state=0)\n",
        "    X[\"location_cluster\"] = kmeans.fit_predict(X_scaled)\n",
        "    X[\"location_cluster\"] = X[\"location_cluster\"].astype(\"category\")\n",
        "    \n",
        "    return X, kmeans\n",
        "\n",
        "def cluster_distance(df, features, n_clusters=20):\n",
        "    X = df.copy()\n",
        "    X_scaled = X.loc[:, features]\n",
        "    X_scaled = (X_scaled - X_scaled.mean(axis=0)) / X_scaled.std(axis=0)\n",
        "    kmeans = KMeans(n_clusters=n_clusters, n_init=50, random_state=0)\n",
        "    X_cd = kmeans.fit_transform(X_scaled)\n",
        "    # Label features and join to dataset\n",
        "    X_cd = pd.DataFrame(\n",
        "        X_cd, columns=[f\"centroid_{i}\" for i in range(X_cd.shape[1])]\n",
        "    )\n",
        "    return X_cd"
      ],
      "execution_count": 90,
      "outputs": []
    },
    {
      "cell_type": "code",
      "metadata": {
        "colab": {
          "base_uri": "https://localhost:8080/",
          "height": 375
        },
        "id": "PFuWF2D0PYfF",
        "outputId": "ce1cb1a1-f12f-487e-818d-495a54faaa75"
      },
      "source": [
        "cluster_features = [\"longitude\", \"latitude\"]\n",
        "all_data = pd.concat([X_train, X_test])\n",
        "all_data_clustered, kmeans_model = cluster_labels(all_data.copy(), cluster_features, 10)\n",
        "all_data_clustered.head(5)\n",
        "\n",
        "X_train_clustered = all_data_clustered.loc[X_train.index, :] # train_data\n",
        "X_test_clustered = all_data_clustered.loc[X_test.index, :] # test data\n",
        "X_train_clustered.head(5)"
      ],
      "execution_count": 91,
      "outputs": [
        {
          "output_type": "execute_result",
          "data": {
            "text/html": [
              "<div>\n",
              "<style scoped>\n",
              "    .dataframe tbody tr th:only-of-type {\n",
              "        vertical-align: middle;\n",
              "    }\n",
              "\n",
              "    .dataframe tbody tr th {\n",
              "        vertical-align: top;\n",
              "    }\n",
              "\n",
              "    .dataframe thead th {\n",
              "        text-align: right;\n",
              "    }\n",
              "</style>\n",
              "<table border=\"1\" class=\"dataframe\">\n",
              "  <thead>\n",
              "    <tr style=\"text-align: right;\">\n",
              "      <th></th>\n",
              "      <th>funder</th>\n",
              "      <th>gps_height</th>\n",
              "      <th>installer</th>\n",
              "      <th>longitude</th>\n",
              "      <th>latitude</th>\n",
              "      <th>basin</th>\n",
              "      <th>region</th>\n",
              "      <th>district_code</th>\n",
              "      <th>lga</th>\n",
              "      <th>ward</th>\n",
              "      <th>population</th>\n",
              "      <th>public_meeting</th>\n",
              "      <th>permit</th>\n",
              "      <th>construction_year</th>\n",
              "      <th>extraction_type_group</th>\n",
              "      <th>management</th>\n",
              "      <th>payment</th>\n",
              "      <th>water_quality</th>\n",
              "      <th>quantity</th>\n",
              "      <th>source</th>\n",
              "      <th>waterpoint_type</th>\n",
              "      <th>location_cluster</th>\n",
              "    </tr>\n",
              "    <tr>\n",
              "      <th>id</th>\n",
              "      <th></th>\n",
              "      <th></th>\n",
              "      <th></th>\n",
              "      <th></th>\n",
              "      <th></th>\n",
              "      <th></th>\n",
              "      <th></th>\n",
              "      <th></th>\n",
              "      <th></th>\n",
              "      <th></th>\n",
              "      <th></th>\n",
              "      <th></th>\n",
              "      <th></th>\n",
              "      <th></th>\n",
              "      <th></th>\n",
              "      <th></th>\n",
              "      <th></th>\n",
              "      <th></th>\n",
              "      <th></th>\n",
              "      <th></th>\n",
              "      <th></th>\n",
              "      <th></th>\n",
              "    </tr>\n",
              "  </thead>\n",
              "  <tbody>\n",
              "    <tr>\n",
              "      <th>69572</th>\n",
              "      <td>Others</td>\n",
              "      <td>1390</td>\n",
              "      <td>Others</td>\n",
              "      <td>34.938093</td>\n",
              "      <td>-9.856322</td>\n",
              "      <td>Lake Nyasa</td>\n",
              "      <td>Iringa</td>\n",
              "      <td>5</td>\n",
              "      <td>Ludewa</td>\n",
              "      <td>Mundindi</td>\n",
              "      <td>109</td>\n",
              "      <td>True</td>\n",
              "      <td>False</td>\n",
              "      <td>90s</td>\n",
              "      <td>gravity</td>\n",
              "      <td>vwc</td>\n",
              "      <td>pay annually</td>\n",
              "      <td>soft</td>\n",
              "      <td>enough</td>\n",
              "      <td>spring</td>\n",
              "      <td>communal standpipe</td>\n",
              "      <td>3</td>\n",
              "    </tr>\n",
              "    <tr>\n",
              "      <th>8776</th>\n",
              "      <td>Others</td>\n",
              "      <td>1399</td>\n",
              "      <td>Others</td>\n",
              "      <td>34.698766</td>\n",
              "      <td>-2.147466</td>\n",
              "      <td>Lake Victoria</td>\n",
              "      <td>Mara</td>\n",
              "      <td>2</td>\n",
              "      <td>Serengeti</td>\n",
              "      <td>Natta</td>\n",
              "      <td>280</td>\n",
              "      <td>True</td>\n",
              "      <td>True</td>\n",
              "      <td>10s</td>\n",
              "      <td>gravity</td>\n",
              "      <td>wug</td>\n",
              "      <td>never pay</td>\n",
              "      <td>soft</td>\n",
              "      <td>insufficient</td>\n",
              "      <td>rainwater harvesting</td>\n",
              "      <td>communal standpipe</td>\n",
              "      <td>6</td>\n",
              "    </tr>\n",
              "    <tr>\n",
              "      <th>34310</th>\n",
              "      <td>Others</td>\n",
              "      <td>686</td>\n",
              "      <td>world vision</td>\n",
              "      <td>37.460664</td>\n",
              "      <td>-3.821329</td>\n",
              "      <td>Pangani</td>\n",
              "      <td>Manyara</td>\n",
              "      <td>4</td>\n",
              "      <td>Simanjiro</td>\n",
              "      <td>Ngorika</td>\n",
              "      <td>250</td>\n",
              "      <td>True</td>\n",
              "      <td>True</td>\n",
              "      <td>00s</td>\n",
              "      <td>gravity</td>\n",
              "      <td>vwc</td>\n",
              "      <td>pay per bucket</td>\n",
              "      <td>soft</td>\n",
              "      <td>enough</td>\n",
              "      <td>dam</td>\n",
              "      <td>communal standpipe multiple</td>\n",
              "      <td>8</td>\n",
              "    </tr>\n",
              "    <tr>\n",
              "      <th>67743</th>\n",
              "      <td>Unicef</td>\n",
              "      <td>263</td>\n",
              "      <td>Others</td>\n",
              "      <td>38.486161</td>\n",
              "      <td>-11.155298</td>\n",
              "      <td>Ruvuma / Southern Coast</td>\n",
              "      <td>Mtwara</td>\n",
              "      <td>63</td>\n",
              "      <td>Nanyumbu</td>\n",
              "      <td>Nanyumbu</td>\n",
              "      <td>58</td>\n",
              "      <td>True</td>\n",
              "      <td>True</td>\n",
              "      <td>80s</td>\n",
              "      <td>submersible</td>\n",
              "      <td>vwc</td>\n",
              "      <td>never pay</td>\n",
              "      <td>soft</td>\n",
              "      <td>dry</td>\n",
              "      <td>machine dbh</td>\n",
              "      <td>communal standpipe multiple</td>\n",
              "      <td>0</td>\n",
              "    </tr>\n",
              "    <tr>\n",
              "      <th>19728</th>\n",
              "      <td>Others</td>\n",
              "      <td>0</td>\n",
              "      <td>Others</td>\n",
              "      <td>31.130847</td>\n",
              "      <td>-1.825359</td>\n",
              "      <td>Lake Victoria</td>\n",
              "      <td>Kagera</td>\n",
              "      <td>1</td>\n",
              "      <td>Karagwe</td>\n",
              "      <td>Nyakasimbi</td>\n",
              "      <td>281</td>\n",
              "      <td>True</td>\n",
              "      <td>True</td>\n",
              "      <td>0</td>\n",
              "      <td>gravity</td>\n",
              "      <td>other</td>\n",
              "      <td>never pay</td>\n",
              "      <td>soft</td>\n",
              "      <td>seasonal</td>\n",
              "      <td>rainwater harvesting</td>\n",
              "      <td>communal standpipe</td>\n",
              "      <td>1</td>\n",
              "    </tr>\n",
              "  </tbody>\n",
              "</table>\n",
              "</div>"
            ],
            "text/plain": [
              "       funder  gps_height  ...              waterpoint_type  location_cluster\n",
              "id                         ...                                               \n",
              "69572  Others        1390  ...           communal standpipe                 3\n",
              "8776   Others        1399  ...           communal standpipe                 6\n",
              "34310  Others         686  ...  communal standpipe multiple                 8\n",
              "67743  Unicef         263  ...  communal standpipe multiple                 0\n",
              "19728  Others           0  ...           communal standpipe                 1\n",
              "\n",
              "[5 rows x 22 columns]"
            ]
          },
          "metadata": {},
          "execution_count": 91
        }
      ]
    },
    {
      "cell_type": "code",
      "metadata": {
        "colab": {
          "base_uri": "https://localhost:8080/",
          "height": 454
        },
        "id": "3g7TKTUwQDpG",
        "outputId": "1767133e-021a-42f5-c3a0-c25e74b4a7ac"
      },
      "source": [
        "X_clustered = X_train_clustered.copy()\n",
        "\n",
        "sns.relplot(\n",
        "    x=\"longitude\", y=\"latitude\", hue=\"location_cluster\", data=X_clustered, height=6,\n",
        ");"
      ],
      "execution_count": 92,
      "outputs": [
        {
          "output_type": "display_data",
          "data": {
            "image/png": "[encoded data removed]",
            "text/plain": [
              "<Figure size 518.75x432 with 1 Axes>"
            ]
          },
          "metadata": {
            "needs_background": "light"
          }
        }
      ]
    },
    {
      "cell_type": "code",
      "metadata": {
        "id": "Z0zJqIbtaijU"
      },
      "source": [
        "X_clustered[\"location_cluster\"] = X_clustered.location_cluster.astype(\"category\")"
      ],
      "execution_count": 93,
      "outputs": []
    },
    {
      "cell_type": "code",
      "metadata": {
        "colab": {
          "base_uri": "https://localhost:8080/",
          "height": 310
        },
        "id": "wW6eTCmCamZ1",
        "outputId": "e453b4fc-4e58-4365-a015-bb61639f971b"
      },
      "source": [
        "X_clustered[\"status_group\"] = y_train\n",
        "sns.relplot(\n",
        "    x=\"value\", y=\"status_group\", hue=\"location_cluster\", col=\"variable\",\n",
        "    height=4, aspect=1, facet_kws={'sharex': False}, col_wrap=3,\n",
        "    data=X_clustered.melt(\n",
        "        value_vars=cluster_features, id_vars=[\"status_group\", \"location_cluster\"],\n",
        "    ),\n",
        ");"
      ],
      "execution_count": 94,
      "outputs": [
        {
          "output_type": "display_data",
          "data": {
            "image/png": "[encoded data removed]",
            "text/plain": [
              "<Figure size 950.75x288 with 2 Axes>"
            ]
          },
          "metadata": {
            "needs_background": "light"
          }
        }
      ]
    },
    {
      "cell_type": "code",
      "metadata": {
        "id": "UxMZl0eobLMG"
      },
      "source": [
        "X_train_clustered.drop(columns=[\"longitude\", \"latitude\"], inplace=True)"
      ],
      "execution_count": 95,
      "outputs": []
    },
    {
      "cell_type": "markdown",
      "metadata": {
        "id": "SdrL895Mq1Am"
      },
      "source": [
        "#### **PCA - Principal Component Analysis**"
      ]
    },
    {
      "cell_type": "code",
      "metadata": {
        "id": "DxzDl-lYR5Ki"
      },
      "source": [
        "all_data = pd.concat([X_train, X_test])"
      ],
      "execution_count": 96,
      "outputs": []
    },
    {
      "cell_type": "code",
      "metadata": {
        "id": "qsWteoVdtVeI"
      },
      "source": [
        "pca_features = [\n",
        "        \"gps_height\",\n",
        "        \"population\"\n",
        "    ]"
      ],
      "execution_count": 97,
      "outputs": []
    },
    {
      "cell_type": "code",
      "metadata": {
        "colab": {
          "base_uri": "https://localhost:8080/"
        },
        "id": "SSAN12nothiC",
        "outputId": "00fa4e6f-a8b2-4557-ee6f-1f84bdfb4745"
      },
      "source": [
        "def getCorrelationsForFeatures(df, y):\n",
        "    print(\"Correlation with Status Group:\\n\")\n",
        "    print(df[pca_features].corrwith(y))\n",
        "    return\n",
        "getCorrelationsForFeatures(X_train.copy(), y_train.status_group)"
      ],
      "execution_count": 98,
      "outputs": [
        {
          "output_type": "stream",
          "name": "stdout",
          "text": [
            "Correlation with Status Group:\n",
            "\n",
            "gps_height   -0.114029\n",
            "population   -0.013527\n",
            "dtype: float64\n"
          ]
        }
      ]
    },
    {
      "cell_type": "code",
      "metadata": {
        "id": "dIjpjTamtKT5"
      },
      "source": [
        "def apply_pca(X, standardize=True):\n",
        "    # Standardize\n",
        "    if standardize:\n",
        "        X = (X - X.mean(axis=0)) / X.std(axis=0)\n",
        "    # Create principal components\n",
        "    pca = PCA()\n",
        "    X_pca = pca.fit_transform(X)\n",
        "    # Convert to dataframe\n",
        "    component_names = [f\"PC{i+1}\" for i in range(X_pca.shape[1])]\n",
        "    X_pca = pd.DataFrame(X_pca, columns=component_names)\n",
        "    # Create loadings\n",
        "    loadings = pd.DataFrame(\n",
        "        pca.components_.T,  # transpose the matrix of loadings\n",
        "        columns=component_names,  # so the columns are the principal components\n",
        "        index=X.columns,  # and the rows are the original features\n",
        "    )\n",
        "    return pca, X_pca, loadings\n",
        "\n",
        "def plot_variance(pca, width=8, dpi=100):\n",
        "    # Create figure\n",
        "    fig, axs = plt.subplots(1, 2)\n",
        "    n = pca.n_components_\n",
        "    grid = np.arange(1, n + 1)\n",
        "    # Explained variance\n",
        "    evr = pca.explained_variance_ratio_\n",
        "    axs[0].bar(grid, evr)\n",
        "    axs[0].set(\n",
        "        xlabel=\"Component\", title=\"% Explained Variance\", ylim=(0.0, 1.0)\n",
        "    )\n",
        "    # Cumulative Variance\n",
        "    cv = np.cumsum(evr)\n",
        "    axs[1].plot(np.r_[0, grid], np.r_[0, cv], \"o-\")\n",
        "    axs[1].set(\n",
        "        xlabel=\"Component\", title=\"% Cumulative Variance\", ylim=(0.0, 1.0)\n",
        "    )\n",
        "    # Set up figure\n",
        "    fig.set(figwidth=8, dpi=100)\n",
        "    return axs"
      ],
      "execution_count": 99,
      "outputs": []
    },
    {
      "cell_type": "code",
      "metadata": {
        "id": "-74F_nN7tfN1"
      },
      "source": [
        "def getPcaFeatures(X):\n",
        "    X_new = X.loc[:, pca_features]\n",
        "    pca, X_pca, loadings = apply_pca(X_new)\n",
        "    print(loadings, \"\\n\")\n",
        "    plot_variance(pca)\n",
        "    return X_pca"
      ],
      "execution_count": 100,
      "outputs": []
    },
    {
      "cell_type": "code",
      "metadata": {
        "colab": {
          "base_uri": "https://localhost:8080/",
          "height": 471
        },
        "id": "rVdQod7kz6CR",
        "outputId": "fd69a18c-0067-4936-a607-0dcc39d85480"
      },
      "source": [
        "all_data_pca = getPcaFeatures(all_data)"
      ],
      "execution_count": 101,
      "outputs": [
        {
          "output_type": "stream",
          "name": "stdout",
          "text": [
            "                 PC1       PC2\n",
            "gps_height -0.707107  0.707107\n",
            "population  0.707107  0.707107 \n",
            "\n"
          ]
        },
        {
          "output_type": "display_data",
          "data": {
            "image/png": "[encoded data removed]",
            "text/plain": [
              "<Figure size 800x400 with 2 Axes>"
            ]
          },
          "metadata": {
            "needs_background": "light"
          }
        }
      ]
    },
    {
      "cell_type": "code",
      "metadata": {
        "id": "j_uyAnRMSSWX"
      },
      "source": [
        "X_train_pca = all_data_pca.loc[X_train.index, :] # train_data\n",
        "X_test_pca = all_data_pca.loc[X_test.index, :] # test data"
      ],
      "execution_count": 102,
      "outputs": []
    },
    {
      "cell_type": "code",
      "metadata": {
        "colab": {
          "base_uri": "https://localhost:8080/"
        },
        "id": "jZ2KlWMf4qc8",
        "outputId": "3e1b1c92-9d62-47f7-9159-8720c2781977"
      },
      "source": [
        "mi_scores = make_mi_scores(X_train_pca, y_train, discrete_features=False)\n",
        "mi_scores"
      ],
      "execution_count": 103,
      "outputs": [
        {
          "output_type": "stream",
          "name": "stderr",
          "text": [
            "/usr/local/lib/python3.7/dist-packages/sklearn/utils/validation.py:760: DataConversionWarning: A column-vector y was passed when a 1d array was expected. Please change the shape of y to (n_samples, ), for example using ravel().\n",
            "  y = column_or_1d(y, warn=True)\n"
          ]
        },
        {
          "output_type": "execute_result",
          "data": {
            "text/plain": [
              "PC2    0.003502\n",
              "PC1    0.001901\n",
              "Name: MI Scores, dtype: float64"
            ]
          },
          "metadata": {},
          "execution_count": 103
        }
      ]
    },
    {
      "cell_type": "markdown",
      "metadata": {
        "id": "IePpv9EO3aUm"
      },
      "source": [
        "This graphs show that there is a strong relationship between `gps_height` & `population`. However, domainwise we cannot think about any relationship between these components. But when we consider the mutual information we can see a significant relationship between those components & the target (status_group). So we can use these components themselves as features."
      ]
    },
    {
      "cell_type": "code",
      "metadata": {
        "id": "u5R2gDf45jvr"
      },
      "source": [
        "def addPcaFeatures(X, X_pca):\n",
        "    X_with_pca_features = X.copy()\n",
        "    X_with_pca_features = X_with_pca_features.join(X_pca)\n",
        "    return X_with_pca_features"
      ],
      "execution_count": 104,
      "outputs": []
    },
    {
      "cell_type": "code",
      "metadata": {
        "id": "XAAVGMTy5m1W"
      },
      "source": [
        "all_data_pca_features = addPcaFeatures(all_data, all_data_pca)"
      ],
      "execution_count": 105,
      "outputs": []
    },
    {
      "cell_type": "code",
      "metadata": {
        "id": "gcdnUv_25xY_"
      },
      "source": [
        "X_train_pca_features = all_data_pca_features.loc[X_train.index, :]\n",
        "X_test_pca_features = all_data_pca_features.loc[X_test.index, :]"
      ],
      "execution_count": 106,
      "outputs": []
    },
    {
      "cell_type": "code",
      "metadata": {
        "id": "iUekrox2aV4P"
      },
      "source": [
        "class CrossFoldEncoder:\n",
        "    def __init__(self, encoder, **kwargs):\n",
        "        self.encoder_ = encoder\n",
        "        self.kwargs_ = kwargs  # keyword arguments for the encoder\n",
        "        self.cv_ = KFold(n_splits=5)\n",
        "\n",
        "    # Fit an encoder on one split and transform the feature on the\n",
        "    # other. Iterating over the splits in all folds gives a complete\n",
        "    # transformation. We also now have one trained encoder on each\n",
        "    # fold.\n",
        "    def fit_transform(self, X, y, cols):\n",
        "        self.fitted_encoders_ = []\n",
        "        self.cols_ = cols\n",
        "        X_encoded = []\n",
        "        for idx_encode, idx_train in self.cv_.split(X):\n",
        "            fitted_encoder = self.encoder_(cols=cols, **self.kwargs_)\n",
        "            fitted_encoder.fit(\n",
        "                X.iloc[idx_encode, :], y.iloc[idx_encode],\n",
        "            )\n",
        "            X_encoded.append(fitted_encoder.transform(X.iloc[idx_train, :])[cols])\n",
        "            self.fitted_encoders_.append(fitted_encoder)\n",
        "        X_encoded = pd.concat(X_encoded)\n",
        "        X_encoded.columns = [name + \"_encoded\" for name in X_encoded.columns]\n",
        "        return X_encoded\n",
        "\n",
        "    # To transform the test data, average the encodings learned from\n",
        "    # each fold.\n",
        "    def transform(self, X):\n",
        "        from functools import reduce\n",
        "\n",
        "        X_encoded_list = []\n",
        "        for fitted_encoder in self.fitted_encoders_:\n",
        "            X_encoded = fitted_encoder.transform(X)\n",
        "            X_encoded_list.append(X_encoded[self.cols_])\n",
        "        X_encoded = reduce(\n",
        "            lambda x, y: x.add(y, fill_value=0), X_encoded_list\n",
        "        ) / len(X_encoded_list)\n",
        "        X_encoded.columns = [name + \"_encoded\" for name in X_encoded.columns]\n",
        "        return X_encoded"
      ],
      "execution_count": 107,
      "outputs": []
    },
    {
      "cell_type": "code",
      "metadata": {
        "colab": {
          "base_uri": "https://localhost:8080/"
        },
        "id": "lrPVEs43d5B1",
        "outputId": "f554af20-5759-4702-fa5c-57c1681290d3"
      },
      "source": [
        "encoder = CrossFoldEncoder(MEstimateEncoder, m=1)\n",
        "X_train_encoded = encoder.fit_transform(X_train, y_train, cols=[\"ward\"])\n",
        "X_test_encoded = encoder.transform(X_test)"
      ],
      "execution_count": 108,
      "outputs": [
        {
          "output_type": "stream",
          "name": "stderr",
          "text": [
            "/usr/local/lib/python3.7/dist-packages/category_encoders/utils.py:21: FutureWarning: is_categorical is deprecated and will be removed in a future version.  Use is_categorical_dtype instead\n",
            "  elif pd.api.types.is_categorical(cols):\n"
          ]
        }
      ]
    },
    {
      "cell_type": "code",
      "metadata": {
        "id": "QOty1m16fcYI"
      },
      "source": [
        "X_train_with_encoded = X_train\n",
        "X_train_with_encoded[\"ward\"] = X_train_encoded[\"ward_encoded\"]\n",
        "X_test_with_encoded = X_test\n",
        "X_test_with_encoded[\"ward\"] = X_test_encoded[\"ward_encoded\"]"
      ],
      "execution_count": 109,
      "outputs": []
    },
    {
      "cell_type": "code",
      "metadata": {
        "colab": {
          "base_uri": "https://localhost:8080/",
          "height": 375
        },
        "id": "WQHWt0pXhII9",
        "outputId": "e9c75577-3e41-4a47-e514-60a8b37b09cc"
      },
      "source": [
        "X_train_with_encoded.head(5)"
      ],
      "execution_count": 110,
      "outputs": [
        {
          "output_type": "execute_result",
          "data": {
            "text/html": [
              "<div>\n",
              "<style scoped>\n",
              "    .dataframe tbody tr th:only-of-type {\n",
              "        vertical-align: middle;\n",
              "    }\n",
              "\n",
              "    .dataframe tbody tr th {\n",
              "        vertical-align: top;\n",
              "    }\n",
              "\n",
              "    .dataframe thead th {\n",
              "        text-align: right;\n",
              "    }\n",
              "</style>\n",
              "<table border=\"1\" class=\"dataframe\">\n",
              "  <thead>\n",
              "    <tr style=\"text-align: right;\">\n",
              "      <th></th>\n",
              "      <th>funder</th>\n",
              "      <th>gps_height</th>\n",
              "      <th>installer</th>\n",
              "      <th>longitude</th>\n",
              "      <th>latitude</th>\n",
              "      <th>basin</th>\n",
              "      <th>region</th>\n",
              "      <th>district_code</th>\n",
              "      <th>lga</th>\n",
              "      <th>ward</th>\n",
              "      <th>population</th>\n",
              "      <th>public_meeting</th>\n",
              "      <th>permit</th>\n",
              "      <th>construction_year</th>\n",
              "      <th>extraction_type_group</th>\n",
              "      <th>management</th>\n",
              "      <th>payment</th>\n",
              "      <th>water_quality</th>\n",
              "      <th>quantity</th>\n",
              "      <th>source</th>\n",
              "      <th>waterpoint_type</th>\n",
              "    </tr>\n",
              "    <tr>\n",
              "      <th>id</th>\n",
              "      <th></th>\n",
              "      <th></th>\n",
              "      <th></th>\n",
              "      <th></th>\n",
              "      <th></th>\n",
              "      <th></th>\n",
              "      <th></th>\n",
              "      <th></th>\n",
              "      <th></th>\n",
              "      <th></th>\n",
              "      <th></th>\n",
              "      <th></th>\n",
              "      <th></th>\n",
              "      <th></th>\n",
              "      <th></th>\n",
              "      <th></th>\n",
              "      <th></th>\n",
              "      <th></th>\n",
              "      <th></th>\n",
              "      <th></th>\n",
              "      <th></th>\n",
              "    </tr>\n",
              "  </thead>\n",
              "  <tbody>\n",
              "    <tr>\n",
              "      <th>69572</th>\n",
              "      <td>Others</td>\n",
              "      <td>1390</td>\n",
              "      <td>Others</td>\n",
              "      <td>34.938093</td>\n",
              "      <td>-9.856322</td>\n",
              "      <td>Lake Nyasa</td>\n",
              "      <td>Iringa</td>\n",
              "      <td>5</td>\n",
              "      <td>Ludewa</td>\n",
              "      <td>0.794675</td>\n",
              "      <td>109</td>\n",
              "      <td>True</td>\n",
              "      <td>False</td>\n",
              "      <td>90s</td>\n",
              "      <td>gravity</td>\n",
              "      <td>vwc</td>\n",
              "      <td>pay annually</td>\n",
              "      <td>soft</td>\n",
              "      <td>enough</td>\n",
              "      <td>spring</td>\n",
              "      <td>communal standpipe</td>\n",
              "    </tr>\n",
              "    <tr>\n",
              "      <th>8776</th>\n",
              "      <td>Others</td>\n",
              "      <td>1399</td>\n",
              "      <td>Others</td>\n",
              "      <td>34.698766</td>\n",
              "      <td>-2.147466</td>\n",
              "      <td>Lake Victoria</td>\n",
              "      <td>Mara</td>\n",
              "      <td>2</td>\n",
              "      <td>Serengeti</td>\n",
              "      <td>0.724368</td>\n",
              "      <td>280</td>\n",
              "      <td>True</td>\n",
              "      <td>True</td>\n",
              "      <td>10s</td>\n",
              "      <td>gravity</td>\n",
              "      <td>wug</td>\n",
              "      <td>never pay</td>\n",
              "      <td>soft</td>\n",
              "      <td>insufficient</td>\n",
              "      <td>rainwater harvesting</td>\n",
              "      <td>communal standpipe</td>\n",
              "    </tr>\n",
              "    <tr>\n",
              "      <th>34310</th>\n",
              "      <td>Others</td>\n",
              "      <td>686</td>\n",
              "      <td>world vision</td>\n",
              "      <td>37.460664</td>\n",
              "      <td>-3.821329</td>\n",
              "      <td>Pangani</td>\n",
              "      <td>Manyara</td>\n",
              "      <td>4</td>\n",
              "      <td>Simanjiro</td>\n",
              "      <td>0.284024</td>\n",
              "      <td>250</td>\n",
              "      <td>True</td>\n",
              "      <td>True</td>\n",
              "      <td>00s</td>\n",
              "      <td>gravity</td>\n",
              "      <td>vwc</td>\n",
              "      <td>pay per bucket</td>\n",
              "      <td>soft</td>\n",
              "      <td>enough</td>\n",
              "      <td>dam</td>\n",
              "      <td>communal standpipe multiple</td>\n",
              "    </tr>\n",
              "    <tr>\n",
              "      <th>67743</th>\n",
              "      <td>Unicef</td>\n",
              "      <td>263</td>\n",
              "      <td>Others</td>\n",
              "      <td>38.486161</td>\n",
              "      <td>-11.155298</td>\n",
              "      <td>Ruvuma / Southern Coast</td>\n",
              "      <td>Mtwara</td>\n",
              "      <td>63</td>\n",
              "      <td>Nanyumbu</td>\n",
              "      <td>1.618343</td>\n",
              "      <td>58</td>\n",
              "      <td>True</td>\n",
              "      <td>True</td>\n",
              "      <td>80s</td>\n",
              "      <td>submersible</td>\n",
              "      <td>vwc</td>\n",
              "      <td>never pay</td>\n",
              "      <td>soft</td>\n",
              "      <td>dry</td>\n",
              "      <td>machine dbh</td>\n",
              "      <td>communal standpipe multiple</td>\n",
              "    </tr>\n",
              "    <tr>\n",
              "      <th>19728</th>\n",
              "      <td>Others</td>\n",
              "      <td>0</td>\n",
              "      <td>Others</td>\n",
              "      <td>31.130847</td>\n",
              "      <td>-1.825359</td>\n",
              "      <td>Lake Victoria</td>\n",
              "      <td>Kagera</td>\n",
              "      <td>1</td>\n",
              "      <td>Karagwe</td>\n",
              "      <td>0.484024</td>\n",
              "      <td>281</td>\n",
              "      <td>True</td>\n",
              "      <td>True</td>\n",
              "      <td>0</td>\n",
              "      <td>gravity</td>\n",
              "      <td>other</td>\n",
              "      <td>never pay</td>\n",
              "      <td>soft</td>\n",
              "      <td>seasonal</td>\n",
              "      <td>rainwater harvesting</td>\n",
              "      <td>communal standpipe</td>\n",
              "    </tr>\n",
              "  </tbody>\n",
              "</table>\n",
              "</div>"
            ],
            "text/plain": [
              "       funder  gps_height  ...                source              waterpoint_type\n",
              "id                         ...                                                   \n",
              "69572  Others        1390  ...                spring           communal standpipe\n",
              "8776   Others        1399  ...  rainwater harvesting           communal standpipe\n",
              "34310  Others         686  ...                   dam  communal standpipe multiple\n",
              "67743  Unicef         263  ...           machine dbh  communal standpipe multiple\n",
              "19728  Others           0  ...  rainwater harvesting           communal standpipe\n",
              "\n",
              "[5 rows x 21 columns]"
            ]
          },
          "metadata": {},
          "execution_count": 110
        }
      ]
    },
    {
      "cell_type": "code",
      "metadata": {
        "id": "QuJ8sr8sbhOo"
      },
      "source": [
        "# # Encoding split\n",
        "# X_copy = X.copy()\n",
        "# X_copy[\"ward\"] = X[\"ward\"]\n",
        "# X_copy[\"status_group\"] = y[\"status_group\"].copy()\n",
        "\n",
        "# X_encode = X_copy.sample(frac=0.20, random_state=0)\n",
        "# y_encode = X_encode.pop(\"status_group\")\n",
        "\n",
        "# # Training split\n",
        "# X_pretrain = X_copy.drop(X_encode.index)\n",
        "# y_train = X_pretrain.pop(\"status_group\")\n",
        "\n",
        "# # Choose a set of features to encode and a value for m\n",
        "# encoder = MEstimateEncoder(cols=[\"ward\"], m=0.5)\n",
        "\n",
        "# # Fit the encoder on the encoding split\n",
        "# encoder.fit(X_encode, y_encode)\n",
        "\n",
        "# # Encode the training split\n",
        "#    X_train = encoder.transform(X_pretrain, y_train)\n",
        "\n",
        "#     encoder_feature = [\"Ticket\"]\n",
        "\n",
        "#     plt.figure(dpi=90)\n",
        "#     ax = sns.distplot(y_train, kde=True, hist=False)\n",
        "#     ax = sns.distplot(X_train[encoder_feature], color='r', ax=ax, hist=True, kde=False, norm_hist=True)\n",
        "#     ax.set_xlabel(\"Survived\");"
      ],
      "execution_count": 111,
      "outputs": []
    },
    {
      "cell_type": "markdown",
      "metadata": {
        "id": "0KQQ4sP7CRMk"
      },
      "source": [
        "## **Train & Test Model**"
      ]
    },
    {
      "cell_type": "markdown",
      "metadata": {
        "id": "64gw2O3wJBWV"
      },
      "source": [
        "**Random Forest Classifier**"
      ]
    },
    {
      "cell_type": "code",
      "metadata": {
        "id": "UU-jZWfUj-6O"
      },
      "source": [
        "def RFClassifier():\n",
        "    model = RandomForestClassifier(\n",
        "        criterion='gini', \n",
        "        n_estimators=700,\n",
        "        min_samples_split=10,\n",
        "        min_samples_leaf=1,\n",
        "        max_features='auto',\n",
        "        oob_score=True,\n",
        "        random_state=1,\n",
        "        n_jobs=8,\n",
        "        verbose=2,\n",
        "        # weight=\"balanced\"\n",
        "    )\n",
        "    return model"
      ],
      "execution_count": 113,
      "outputs": []
    },
    {
      "cell_type": "markdown",
      "metadata": {
        "id": "f8H_JHWI7aVt"
      },
      "source": [
        "**XGBoost Classifier**"
      ]
    },
    {
      "cell_type": "code",
      "metadata": {
        "id": "-n5KSh8tI_zP"
      },
      "source": [
        "def XGBoostClassifier_v1():\n",
        "    model = XGBClassifier(objective = 'multi:softmax', booster = 'gbtree', nrounds = 'min.error.idx',\n",
        "                        num_class = 3, maximize = False, eval_metric = 'merror', eta = .1,\n",
        "                        max_depth = 10, colsample_bytree = .4, n_jobs = -1,learning_rate = 0.05, verbose=2)\n",
        "    return model\n",
        "\n",
        "def XGBoostClassifier_v2():\n",
        "    model = XGBClassifier(nthread=2, num_class=3, \n",
        "                        min_child_weight=3, max_depth=15,\n",
        "                        gamma=0.5, scale_pos_weight=0.8,\n",
        "                        subsample=0.7, colsample_bytree = 0.8,\n",
        "                        objective='multi:softmax')\n",
        "    return model"
      ],
      "execution_count": 135,
      "outputs": []
    },
    {
      "cell_type": "markdown",
      "metadata": {
        "id": "RrB0WHgS7fYE"
      },
      "source": [
        "**Train & Validate**"
      ]
    },
    {
      "cell_type": "code",
      "metadata": {
        "id": "WAxBGyhSTuXh"
      },
      "source": [
        "def score_dataset(X, y, model):\n",
        "   \n",
        "    for colname in X.select_dtypes([\"category\", \"object\"]):\n",
        "        # X[colname], _ = X[colname].factorize() # Label encoding\n",
        "        dummies = pd.get_dummies(X[colname], prefix=colname, drop_first=False) # One hot encoding\n",
        "        X = X.join(dummies)\n",
        "        X = X.drop(colname, 1)\n",
        "    for colname in y.select_dtypes([\"category\", \"object\"]):\n",
        "        # X[colname], _ = X[colname].factorize() # Label encoding\n",
        "        dummies = pd.get_dummies(y[colname], prefix=colname, drop_first=False) # One hot encoding\n",
        "        y = y.join(dummies)\n",
        "        y = y.drop(colname, 1)\n",
        "    \n",
        "    x_train, x_test, y_train, y_test = train_test_split(X, y, test_size=0.2, random_state=42)\n",
        "\n",
        "    model.fit(x_train, y_train)\n",
        "    y_pred = model.predict(x_train)\n",
        "    y_pred_test = model.predict(x_test)\n",
        "\n",
        "    print(f\"Train Accuracy: {accuracy_score(y_train, y_pred)}\")\n",
        "    print(f\"Test Accuracy: {accuracy_score(y_test, y_pred_test)}\")\n",
        "\n",
        "    print(f\"Train Balanced Accuracy: {balanced_accuracy_score(y_train, y_pred)}\")\n",
        "    print(f\"Test Balanced Accuracy: {balanced_accuracy_score(y_test, y_pred_test)}\")\n",
        "\n",
        "    return model"
      ],
      "execution_count": 129,
      "outputs": []
    },
    {
      "cell_type": "code",
      "metadata": {
        "id": "pbAxJj0PmLBG"
      },
      "source": [
        "def oversample(X, y):\n",
        "    oversampler = RandomOverSampler()\n",
        "    X_over, y_over = oversampler.fit_sample(X, y)\n",
        "    return X_over, y_over"
      ],
      "execution_count": 120,
      "outputs": []
    },
    {
      "cell_type": "code",
      "metadata": {
        "id": "zcvT4Rs8nmvz"
      },
      "source": [
        "def scale_columns(df):\n",
        "    scaler = StandardScaler()\n",
        "    for col in [\"gps_height\", \"longitude\", \"latitude\", \"ward\"]:\n",
        "        df[col] = pd.DataFrame(scaler.fit_transform(pd.DataFrame(df[col])),columns=[col])\n",
        "    return df"
      ],
      "execution_count": 125,
      "outputs": []
    },
    {
      "cell_type": "code",
      "metadata": {
        "id": "CR85F6pExp-R"
      },
      "source": [
        "# Scaled_X_train = X_train_with_encoded\n",
        "# Scaled_X_train = scale_columns(X_train_with_encoded.copy())\n",
        "# Scaled_X_test = X_test_with_encoded\n",
        "# Scaled_X_test = scale_columns(X_test_with_encoded.copy())"
      ],
      "execution_count": 126,
      "outputs": []
    },
    {
      "cell_type": "code",
      "metadata": {
        "id": "k4qkMykZEH5w",
        "colab": {
          "base_uri": "https://localhost:8080/"
        },
        "outputId": "ce3d1b3c-ac92-41f5-f7e1-3ce870468702"
      },
      "source": [
        "model = score_dataset(X_train.copy(), y_train, XGBoostClassifier_v2())"
      ],
      "execution_count": 136,
      "outputs": [
        {
          "output_type": "stream",
          "name": "stderr",
          "text": [
            "/usr/local/lib/python3.7/dist-packages/sklearn/preprocessing/_label.py:235: DataConversionWarning: A column-vector y was passed when a 1d array was expected. Please change the shape of y to (n_samples, ), for example using ravel().\n",
            "  y = column_or_1d(y, warn=True)\n",
            "/usr/local/lib/python3.7/dist-packages/sklearn/preprocessing/_label.py:268: DataConversionWarning: A column-vector y was passed when a 1d array was expected. Please change the shape of y to (n_samples, ), for example using ravel().\n",
            "  y = column_or_1d(y, warn=True)\n"
          ]
        },
        {
          "output_type": "stream",
          "name": "stdout",
          "text": [
            "Train Accuracy: 0.8997474747474747\n",
            "Test Accuracy: 0.8063131313131313\n",
            "Train Balanced Accuracy: 0.7918901320732369\n",
            "Test Balanced Accuracy: 0.6596246731541463\n"
          ]
        }
      ]
    },
    {
      "cell_type": "markdown",
      "metadata": {
        "id": "1gkncdHgh5VH"
      },
      "source": [
        "Initial Results:\n",
        "*   Train Accuracy: 0.8977483164983165\n",
        "*   Test Accuracy: 0.8144781144781145\n",
        "*   Train Balanced Accuracy: 0.7727231204232443\n",
        "*   Test Balanced Accuracy: 0.6637211894397568\n",
        "--------------------------------------------------------------------------------\n",
        "Results after considering Imbalanced Issue:\n",
        "*   Train Accuracy: 0.8978535353535354\n",
        "*   Test Accuracy: 0.7863636363636364\n",
        "*   Train Balanced Accuracy: 0.9139070806996918\n",
        "*   Test Balanced Accuracy: 0.7240594283267413\n",
        "--------------------------------------------------------------------------------\n",
        "Results after Location Clustering:\n",
        "*   Train Accuracy: 0.8716119528619528\n",
        "*   Test Accuracy: 0.7702020202020202\n",
        "*   Train Balanced Accuracy: 0.8888252648357376\n",
        "*   Test Balanced Accuracy: 0.7225629665406655\n",
        "--------------------------------------------------------------------------------\n",
        "Results after adding Principal Components:\n",
        "*   Train Accuracy: 0.9090909090909091\n",
        "*   Test Accuracy: 0.7878787878787878\n",
        "*   Train Balanced Accuracy: 0.925159135696779\n",
        "*   Test Balanced Accuracy: 0.7169532026105788\n",
        "--------------------------------------------------------------------------------\n",
        "Results after apply Target Encoding:\n",
        "*   Train Accuracy: 0.9088804713804713\n",
        "*   Test Accuracy: 0.7913299663299663\n",
        "*   Train Balanced Accuracy: 0.9230028946792773\n",
        "*   Test Balanced Accuracy: 0.7162858081643916\n",
        "--------------------------------------------------------------------------------\n",
        "Results after apply XGBoost:\n",
        "*   Train Accuracy: 0.8383417508417509\n",
        "*   Test Accuracy: 0.799074074074074\n",
        "*   Train Balanced Accuracy: 0.6708432082781846\n",
        "*   Test Balanced Accuracy: 0.6256999755388909\n",
        "--------------------------------------------------------------------------------\n",
        "Result after optimized XGBoost:\n",
        "*   Train Accuracy: 0.9060395622895623\n",
        "*   Test Accuracy: 0.8111111111111111\n",
        "*   Train Balanced Accuracy: 0.8048584420622932\n",
        "*   Test Balanced Accuracy: 0.6616543614288605\n",
        "\n",
        "\n"
      ]
    },
    {
      "cell_type": "markdown",
      "metadata": {
        "id": "J4bWdcPi7mtQ"
      },
      "source": [
        "**Get Predictions**"
      ]
    },
    {
      "cell_type": "code",
      "metadata": {
        "id": "a7jkh0YXyMpU"
      },
      "source": [
        "def get_predictions(model, X):\n",
        "\n",
        "    # Label encoding for categoricals\n",
        "    for colname in X.select_dtypes([\"category\", \"object\"]):\n",
        "        # X[colname], _ = X[colname].factorize() # Label encoding\n",
        "        dummies = pd.get_dummies(X[colname], prefix=colname, drop_first=False) # One hot encoding\n",
        "        X = X.join(dummies)\n",
        "        X = X.drop(colname, 1)\n",
        "    \n",
        "    y_pred = model.predict(X)\n",
        "    print(y_pred)\n",
        "\n",
        "    data = {'id': X.index, 'status_group': y_pred}  \n",
        "    submission = pd.DataFrame(data)\n",
        "    target_status_group = {0:'functional',\n",
        "                          1:'functional needs repair',\n",
        "                          2:'non functional'} \n",
        "    submission['status_group'] = submission['status_group'].replace(target_status_group)\n",
        "    submission.to_csv('submission5.csv')\n",
        "\n",
        "    return"
      ],
      "execution_count": 132,
      "outputs": []
    },
    {
      "cell_type": "code",
      "metadata": {
        "colab": {
          "base_uri": "https://localhost:8080/"
        },
        "id": "p9KRhc3YvObQ",
        "outputId": "7cd74d53-0b20-4ad1-8123-6fe23e9c81a3"
      },
      "source": [
        "get_predictions(model, X_test)"
      ],
      "execution_count": 133,
      "outputs": [
        {
          "output_type": "stream",
          "name": "stderr",
          "text": [
            "[Parallel(n_jobs=8)]: Using backend ThreadingBackend with 8 concurrent workers.\n",
            "[Parallel(n_jobs=8)]: Done  25 tasks      | elapsed:    0.2s\n",
            "[Parallel(n_jobs=8)]: Done 146 tasks      | elapsed:    0.6s\n",
            "[Parallel(n_jobs=8)]: Done 349 tasks      | elapsed:    1.4s\n",
            "[Parallel(n_jobs=8)]: Done 632 tasks      | elapsed:    2.5s\n"
          ]
        },
        {
          "output_type": "stream",
          "name": "stdout",
          "text": [
            "[2 0 2 ... 0 0 2]\n"
          ]
        },
        {
          "output_type": "stream",
          "name": "stderr",
          "text": [
            "[Parallel(n_jobs=8)]: Done 700 out of 700 | elapsed:    2.7s finished\n"
          ]
        }
      ]
    },
    {
      "cell_type": "code",
      "metadata": {
        "id": "9_7_81PHvRoU"
      },
      "source": [
        ""
      ],
      "execution_count": 136,
      "outputs": []
    }
  ]
}